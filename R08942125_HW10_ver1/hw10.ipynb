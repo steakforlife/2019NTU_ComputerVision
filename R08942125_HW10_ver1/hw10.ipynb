{
 "cells": [
  {
   "cell_type": "code",
   "execution_count": 3,
   "metadata": {},
   "outputs": [],
   "source": [
    "import cv2\n",
    "import numpy as np\n",
    "import math"
   ]
  },
  {
   "cell_type": "code",
   "execution_count": 13,
   "metadata": {},
   "outputs": [],
   "source": [
    "def laplacian1(image,threshold):\n",
    "    laplcianOutput=np.zeros(shape=image.shape,dtype=image.dtype)\n",
    "    output=np.zeros(shape=image.shape,dtype=image.dtype)\n",
    "    imagePad=np.pad(image,((1,1),(1,1)),'reflect')\n",
    "    rows,cols=image.shape\n",
    "    for i in range(1,513):\n",
    "        for j in range(1,513):\n",
    "            graident=int(imagePad[i,j]*-4)+int(imagePad[i-1,j])+int(imagePad[i+1,j])+int(imagePad[i,j+1])+int(imagePad[i,j-1])\n",
    "            if(graident>=threshold):\n",
    "                laplcianOutput[i-1,j-1]=1\n",
    "            elif(graident<=threshold*-1):\n",
    "                laplcianOutput[i-1,j-1]=-1\n",
    "            else:\n",
    "                laplcianOutput[i-1,j-1]=0\n",
    "    zeroCrossing=np.pad(laplcianOutput,((1,1),(1,1)),'reflect')\n",
    "    for i in range(1,513):\n",
    "        for j in range(1,513):\n",
    "            if(zeroCrossing[i,j]==1):\n",
    "                if([zeroCrossing[i-1,j-1],zeroCrossing[i-1,j],zeroCrossing[i-1,j+1],\\\n",
    "                   zeroCrossing[i,j-1],zeroCrossing[i,j],zeroCrossing[i,j+1],\\\n",
    "                   zeroCrossing[i+1,j-1],zeroCrossing[i+1,j],zeroCrossing[i+1,j+1]].count(-1)>0):\n",
    "                    output[i-1,j-1]=0\n",
    "            else:\n",
    "                output[i-1,j-1]=255\n",
    "    return output"
   ]
  },
  {
   "cell_type": "code",
   "execution_count": 14,
   "metadata": {
    "scrolled": true
   },
   "outputs": [
    {
     "data": {
      "text/plain": [
       "True"
      ]
     },
     "execution_count": 14,
     "metadata": {},
     "output_type": "execute_result"
    }
   ],
   "source": [
    "#test\n",
    "src=cv2.imread(\"lena.bmp\",0)\n",
    "test=laplacian1(src,15)\n",
    "cv2.imwrite(\"laplacian1.bmp\",test)"
   ]
  },
  {
   "cell_type": "code",
   "execution_count": 15,
   "metadata": {},
   "outputs": [],
   "source": [
    "def laplacian2(image,threshold):\n",
    "    laplcianOutput=np.zeros(shape=image.shape,dtype=image.dtype)\n",
    "    output=np.zeros(shape=image.shape,dtype=image.dtype)\n",
    "    imagePad=np.pad(image,((1,1),(1,1)),'reflect')\n",
    "    rows,cols=image.shape\n",
    "    for i in range(1,513):\n",
    "        for j in range(1,513):\n",
    "            graident=int(imagePad[i,j]*-8)+int(imagePad[i-1,j])+int(imagePad[i+1,j])+int(imagePad[i,j+1])+int(imagePad[i,j-1])\\\n",
    "                    +int(imagePad[i-1,j-1])+int(imagePad[i-1,j+1])+int(imagePad[i+1,j-1])+int(imagePad[i+1,j+1])\n",
    "            graident=int(graident/3)\n",
    "            \n",
    "            if(graident>=threshold):\n",
    "                laplcianOutput[i-1,j-1]=1\n",
    "            elif(graident<=threshold*-1):\n",
    "                laplcianOutput[i-1,j-1]=-1\n",
    "            else:\n",
    "                laplcianOutput[i-1,j-1]=0\n",
    "    zeroCrossing=np.pad(laplcianOutput,((1,1),(1,1)),'reflect')\n",
    "    for i in range(1,513):\n",
    "        for j in range(1,513):\n",
    "            if(zeroCrossing[i,j]==1):\n",
    "                if([zeroCrossing[i-1,j-1],zeroCrossing[i-1,j],zeroCrossing[i-1,j+1],\\\n",
    "                   zeroCrossing[i,j-1],zeroCrossing[i,j],zeroCrossing[i,j+1],\\\n",
    "                   zeroCrossing[i+1,j-1],zeroCrossing[i+1,j],zeroCrossing[i+1,j+1]].count(-1)>0):\n",
    "                    output[i-1,j-1]=0\n",
    "            else:\n",
    "                output[i-1,j-1]=255\n",
    "    return output"
   ]
  },
  {
   "cell_type": "code",
   "execution_count": 16,
   "metadata": {},
   "outputs": [
    {
     "data": {
      "text/plain": [
       "True"
      ]
     },
     "execution_count": 16,
     "metadata": {},
     "output_type": "execute_result"
    }
   ],
   "source": [
    "#test\n",
    "src=cv2.imread(\"lena.bmp\",0)\n",
    "test=laplacian2(src,15)\n",
    "cv2.imwrite(\"laplacian2.bmp\",test)"
   ]
  },
  {
   "cell_type": "code",
   "execution_count": 17,
   "metadata": {},
   "outputs": [],
   "source": [
    "def minVarLaplacian(image,threshold):\n",
    "    laplcianOutput=np.zeros(shape=image.shape,dtype=image.dtype)\n",
    "    output=np.zeros(shape=image.shape,dtype=image.dtype)\n",
    "    imagePad=np.pad(image,((1,1),(1,1)),'reflect')\n",
    "    rows,cols=image.shape\n",
    "    for i in range(1,513):\n",
    "        for j in range(1,513):\n",
    "            graident=int(imagePad[i,j]*-4)+int(imagePad[i-1,j]*-1)+int(imagePad[i+1,j]*-1)+int(imagePad[i,j+1]*-1)+int(imagePad[i,j-1]*-1)\\\n",
    "                    +int(imagePad[i-1,j-1]*2)+int(imagePad[i-1,j+1]*2)+int(imagePad[i+1,j-1]*2)+int(imagePad[i+1,j+1]*2)\n",
    "            graident=int(graident/3)\n",
    "            \n",
    "            if(graident>=threshold):\n",
    "                laplcianOutput[i-1,j-1]=1\n",
    "            elif(graident<=threshold*-1):\n",
    "                laplcianOutput[i-1,j-1]=-1\n",
    "            else:\n",
    "                laplcianOutput[i-1,j-1]=0\n",
    "    zeroCrossing=np.pad(laplcianOutput,((1,1),(1,1)),'reflect')\n",
    "    for i in range(1,513):\n",
    "        for j in range(1,513):\n",
    "            if(zeroCrossing[i,j]==1):\n",
    "                if([zeroCrossing[i-1,j-1],zeroCrossing[i-1,j],zeroCrossing[i-1,j+1],\\\n",
    "                   zeroCrossing[i,j-1],zeroCrossing[i,j],zeroCrossing[i,j+1],\\\n",
    "                   zeroCrossing[i+1,j-1],zeroCrossing[i+1,j],zeroCrossing[i+1,j+1]].count(-1)>0):\n",
    "                    output[i-1,j-1]=0\n",
    "            else:\n",
    "                output[i-1,j-1]=255\n",
    "    return output"
   ]
  },
  {
   "cell_type": "code",
   "execution_count": 18,
   "metadata": {},
   "outputs": [
    {
     "data": {
      "text/plain": [
       "True"
      ]
     },
     "execution_count": 18,
     "metadata": {},
     "output_type": "execute_result"
    }
   ],
   "source": [
    "#test\n",
    "src=cv2.imread(\"lena.bmp\",0)\n",
    "test=minVarLaplacian(src,20)\n",
    "cv2.imwrite(\"minVarLaplcian.bmp\",test)"
   ]
  },
  {
   "cell_type": "code",
   "execution_count": 23,
   "metadata": {},
   "outputs": [],
   "source": [
    "def laplcianOfGaussian(image,threshold):\n",
    "    laplcianOutput=np.zeros(shape=image.shape,dtype=image.dtype)\n",
    "    output=np.zeros(shape=image.shape,dtype=image.dtype)\n",
    "    imagePad=np.pad(image,((5,5),(5,5)),'reflect')\n",
    "    rows,cols=image.shape\n",
    "    for i in range(5,517):\n",
    "        for j in range(5,517):\n",
    "            graident=int(imagePad[i,j]*178)+int(imagePad[i-1,j]*103)+int(imagePad[i+1,j]*103)+int(imagePad[i,j+1]*103)+int(imagePad[i,j-1]*103)\\\n",
    "                    +int(imagePad[i-1,j-1]*52)+int(imagePad[i-1,j+1]*52)+int(imagePad[i+1,j-1]*52)+int(imagePad[i+1,j+1]*52\\\n",
    "                    +int(imagePad[i+2,j]*-1)+int(imagePad[i-2,j]*-1)+int(imagePad[i,j+2]*-1)+int(imagePad[i,j-2]*-1)\\\n",
    "                    +int(imagePad[i+1,j-2]*-14)+int(imagePad[i+1,j+2]*-14)+int(imagePad[i-1,j-2]*-14)+int(imagePad[i-1,j+2]*-14)\\\n",
    "                    +int(imagePad[i+2,j-1]*-14)+int(imagePad[i+2,j+1]*-14)+int(imagePad[i-2,j-1]*-14)+int(imagePad[i-2,j+1]*-14)\\\n",
    "                    +int(imagePad[i+2,j+2]*-24)+int(imagePad[i+2,j-2]*-24)+int(imagePad[i-2,j+2]*-24)+int(imagePad[i-2,j-2]*-24)\\\n",
    "                    +int(imagePad[i+3,j]*-23)+int(imagePad[i-3,j]*-23)+int(imagePad[i,j+3]*-23)+int(imagePad[i,j-3]*-23)\\\n",
    "                    +int(imagePad[i+3,j+1]*-22)+int(imagePad[i+3,j-1]*-22)+int(imagePad[i-3,j+1]*-22)+int(imagePad[i-3,j-1]*-22)\\\n",
    "                    +int(imagePad[i+1,j+3]*-22)+int(imagePad[i+1,j-3]*-22)+int(imagePad[i-1,j+3]*-22)+int(imagePad[i-1,j-3]*-22)\\\n",
    "                    +int(imagePad[i+3,j+2]*-15)+int(imagePad[i+3,j-2]*-15)+int(imagePad[i-3,j+2]*-15)+int(imagePad[i-3,j-2]*-15)\\\n",
    "                    +int(imagePad[i+2,j+3]*-15)+int(imagePad[i+2,j-3]*-15)+int(imagePad[i-2,j+3]*-15)+int(imagePad[i-2,j-3]*-15)\\\n",
    "                    +int(imagePad[i+3,j+3]*-7)+int(imagePad[i+3,j-3]*-7)+int(imagePad[i-3,j+3]*-7)+int(imagePad[i-3,j-3]*-7)\\\n",
    "                    +int(imagePad[i+4,j]*-9)+int(imagePad[i-4,j]*-9)+int(imagePad[i,j+4]*-9)+int(imagePad[i,j-4]*-9)\\\n",
    "                    +int(imagePad[i+4,j+1]*-8)+int(imagePad[i-4,j-1]*-8)+int(imagePad[i+1,j+4]*-8)+int(imagePad[i-1,j-4]*-8)\\\n",
    "                    +int(imagePad[i-4,j+1]*-8)+int(imagePad[i+4,j-1]*-8)+int(imagePad[i+1,j-4]*-8)+int(imagePad[i-1,j+4]*-8)\\\n",
    "                    +int(imagePad[i+4,j+2]*-4)+int(imagePad[i-4,j-2]*-4)+int(imagePad[i+2,j+4]*-4)+int(imagePad[i-2,j-4]*-4)\\\n",
    "                    +int(imagePad[i-4,j+2]*-4)+int(imagePad[i+4,j-2]*-4)+int(imagePad[i+2,j-4]*-4)+int(imagePad[i-2,j+4]*-4)\\\n",
    "                    +int(imagePad[i+4,j+3]*-2)+int(imagePad[i-4,j-3]*-2)+int(imagePad[i+3,j+4]*-2)+int(imagePad[i-3,j-4]*-2)\\\n",
    "                    +int(imagePad[i-4,j+3]*-2)+int(imagePad[i+4,j-3]*-2)+int(imagePad[i+3,j-4]*-2)+int(imagePad[i-3,j+4]*-2)\\\n",
    "                    +int(imagePad[i+5,j]*-2)+int(imagePad[i-5,j]*-2)+int(imagePad[i,j+5]*-2)+int(imagePad[i,j-5]*-2)\\\n",
    "                    +int(imagePad[i+5,j+1]*-1)+int(imagePad[i-5,j-1]*-1)+int(imagePad[i+1,j+5]*-1)+int(imagePad[i-1,j-5]*-1)\\\n",
    "                    +int(imagePad[i-5,j+1]*-1)+int(imagePad[i+5,j-1]*-1)+int(imagePad[i+1,j-5]*-1)+int(imagePad[i-1,j+5]*-1)\\\n",
    "                    +int(imagePad[i+5,j+2]*-1)+int(imagePad[i-5,j-2]*-1)+int(imagePad[i+2,j+5]*-1)+int(imagePad[i-2,j-5]*-1)\\\n",
    "                    +int(imagePad[i-5,j+2]*-1)+int(imagePad[i+5,j-2]*-1)+int(imagePad[i+2,j-5]*-1)+int(imagePad[i-2,j+5]*-1))\n",
    "            \n",
    "            \n",
    "            if(graident>=threshold):\n",
    "                laplcianOutput[i-5,j-5]=1\n",
    "            elif(graident<=threshold*-1):\n",
    "                laplcianOutput[i-5,j-5]=-1\n",
    "            else:\n",
    "                laplcianOutput[i-5,j-5]=0\n",
    "    zeroCrossing=np.pad(laplcianOutput,((1,1),(1,1)),'reflect')\n",
    "    for i in range(1,513):\n",
    "        for j in range(1,513):\n",
    "            if(zeroCrossing[i,j]==1):\n",
    "                if([zeroCrossing[i-1,j-1],zeroCrossing[i-1,j],zeroCrossing[i-1,j+1],\\\n",
    "                   zeroCrossing[i,j-1],zeroCrossing[i,j],zeroCrossing[i,j+1],\\\n",
    "                   zeroCrossing[i+1,j-1],zeroCrossing[i+1,j],zeroCrossing[i+1,j+1]].count(-1)>0):\n",
    "                    output[i-1,j-1]=0\n",
    "            else:\n",
    "                output[i-1,j-1]=255\n",
    "    return output"
   ]
  },
  {
   "cell_type": "code",
   "execution_count": 25,
   "metadata": {},
   "outputs": [
    {
     "data": {
      "text/plain": [
       "True"
      ]
     },
     "execution_count": 25,
     "metadata": {},
     "output_type": "execute_result"
    }
   ],
   "source": [
    "#test\n",
    "src=cv2.imread(\"lena.bmp\",0)\n",
    "test=laplcianOfGaussian(src,3000)\n",
    "cv2.imwrite(\"laplcianOfGaussian.bmp\",test)"
   ]
  },
  {
   "cell_type": "code",
   "execution_count": 7,
   "metadata": {},
   "outputs": [],
   "source": [
    "def differenceOfGaussian(image,threshold):\n",
    "    laplcianOutput=np.zeros(shape=image.shape,dtype=image.dtype)\n",
    "    output=np.zeros(shape=image.shape,dtype=image.dtype)\n",
    "    imagePad=np.pad(image,((5,5),(5,5)),'reflect')\n",
    "    rows,cols=image.shape\n",
    "    for i in range(5,517):\n",
    "        for j in range(5,517):\n",
    "            graident=int(imagePad[i,j]*283)+int(imagePad[i-1,j]*160)+int(imagePad[i+1,j]*160)+int(imagePad[i,j+1]*160)+int(imagePad[i,j-1]*160)\\\n",
    "                    +int(imagePad[i-1,j-1]*85)+int(imagePad[i-1,j+1]*85)+int(imagePad[i+1,j-1]*85)+int(imagePad[i+1,j+1]*85\\\n",
    "                    +int(imagePad[i+2,j]*15)+int(imagePad[i-2,j]*15)+int(imagePad[i,j+2]*15)+int(imagePad[i,j-2]*15)\\\n",
    "                    +int(imagePad[i+2,j+2]*-16)+int(imagePad[i+2,j-2]*-16)+int(imagePad[i-2,j+2]*-16)+int(imagePad[i-2,j-2]*-16)\\\n",
    "                    +int(imagePad[i+3,j]*-17)+int(imagePad[i-3,j]*-17)+int(imagePad[i,j+3]*-17)+int(imagePad[i,j-3]*-17)\\\n",
    "                    +int(imagePad[i+3,j+1]*-17)+int(imagePad[i+3,j-1]*-17)+int(imagePad[i-3,j+1]*-17)+int(imagePad[i-3,j-1]*-17)\\\n",
    "                    +int(imagePad[i+1,j+3]*-17)+int(imagePad[i+1,j-3]*-17)+int(imagePad[i-1,j+3]*-17)+int(imagePad[i-1,j-3]*-17)\n",
    "                    +int(imagePad[i+3,j+2]*-16)+int(imagePad[i+3,j-2]*-16)+int(imagePad[i-3,j+2]*-16)+int(imagePad[i-3,j-2]*-16)\\\n",
    "                    +int(imagePad[i+2,j+3]*-16)+int(imagePad[i+2,j-3]*-16)+int(imagePad[i-2,j+3]*-16)+int(imagePad[i-2,j-3]*-16)\\\n",
    "                    +int(imagePad[i+3,j+3]*-12)+int(imagePad[i+3,j-3]*-12)+int(imagePad[i-3,j+3]*-12)+int(imagePad[i-3,j-3]*-12)\\\n",
    "                    +int(imagePad[i+4,j]*-13)+int(imagePad[i-4,j]*-13)+int(imagePad[i,j+4]*-13)+int(imagePad[i,j-4]*-13)\\\n",
    "                    +int(imagePad[i+4,j+1]*-13)+int(imagePad[i-4,j-1]*-13)+int(imagePad[i+1,j+4]*-13)+int(imagePad[i-1,j-4]*-13)\\\n",
    "                    +int(imagePad[i-4,j+1]*-13)+int(imagePad[i+4,j-1]*-13)+int(imagePad[i+1,j-4]*-13)+int(imagePad[i-1,j+4]*-13)\\\n",
    "                    +int(imagePad[i+4,j+2]*-11)+int(imagePad[i-4,j-2]*-11)+int(imagePad[i+2,j+4]*-11)+int(imagePad[i-2,j-4]*-11)\\\n",
    "                    +int(imagePad[i-4,j+2]*-11)+int(imagePad[i+4,j-2]*-11)+int(imagePad[i+2,j-4]*-11)+int(imagePad[i-2,j+4]*-11)\\\n",
    "                    +int(imagePad[i+4,j+3]*-8)+int(imagePad[i-4,j-3]*-8)+int(imagePad[i+3,j+4]*-8)+int(imagePad[i-3,j-4]*-8)\\\n",
    "                    +int(imagePad[i-4,j+3]*-8)+int(imagePad[i+4,j-3]*-8)+int(imagePad[i+3,j-4]*-8)+int(imagePad[i-3,j+4]*-8)\\\n",
    "                    +int(imagePad[i+4,j+4]*-5)+int(imagePad[i-4,j-4]*-5)+int(imagePad[i+4,j-4]*-5)+int(imagePad[i-4,j+4]*-5)\\\n",
    "                    +int(imagePad[i+5,j]*-8)+int(imagePad[i-5,j]*-8)+int(imagePad[i,j+5]*-8)+int(imagePad[i,j-5]*-8)\\\n",
    "                    +int(imagePad[i+5,j+1]*-7)+int(imagePad[i-5,j-1]*-7)+int(imagePad[i+1,j+5]*-7)+int(imagePad[i-1,j-5]*-7)\\\n",
    "                    +int(imagePad[i-5,j+1]*-7)+int(imagePad[i+5,j-1]*-7)+int(imagePad[i+1,j-5]*-7)+int(imagePad[i-1,j+5]*-7)\\\n",
    "                    +int(imagePad[i+5,j+2]*-6)+int(imagePad[i-5,j-2]*-6)+int(imagePad[i+2,j+5]*-6)+int(imagePad[i-2,j-5]*-6)\\\n",
    "                    +int(imagePad[i-5,j+2]*-6)+int(imagePad[i+5,j-2]*-6)+int(imagePad[i+2,j-5]*-6)+int(imagePad[i-2,j+5]*-6)\\\n",
    "                    +int(imagePad[i+5,j+3]*-4)+int(imagePad[i-5,j-3]*-4)+int(imagePad[i+3,j+5]*-4)+int(imagePad[i-3,j-5]*-4)\\\n",
    "                    +int(imagePad[i-5,j+3]*-4)+int(imagePad[i+5,j-3]*-4)+int(imagePad[i+3,j-5]*-4)+int(imagePad[i-3,j+5]*-4)\\\n",
    "                    +int(imagePad[i+5,j+4]*-3)+int(imagePad[i-5,j-4]*-3)+int(imagePad[i+4,j+5]*-3)+int(imagePad[i-4,j-5]*-3)\\\n",
    "                    +int(imagePad[i-5,j+4]*-3)+int(imagePad[i+5,j-4]*-3)+int(imagePad[i+4,j-5]*-3)+int(imagePad[i-4,j+5]*-3)\\\n",
    "                    +int(imagePad[i+5,j+5]*-1)+int(imagePad[i-5,j-5]*-1)+int(imagePad[i-5,j+5]*-1)+int(imagePad[i+5,j-5]*-1))\n",
    "            \n",
    "            \n",
    "            if(graident>=threshold):\n",
    "                laplcianOutput[i-5,j-5]=1\n",
    "            elif(graident<=threshold*-1):\n",
    "                laplcianOutput[i-5,j-5]=-1\n",
    "            else:\n",
    "                laplcianOutput[i-5,j-5]=0\n",
    "    zeroCrossing=np.pad(laplcianOutput,((1,1),(1,1)),'reflect')\n",
    "    for i in range(1,513):\n",
    "        for j in range(1,513):\n",
    "            if(zeroCrossing[i,j]==1):\n",
    "                if([zeroCrossing[i-1,j-1],zeroCrossing[i-1,j],zeroCrossing[i-1,j+1],\\\n",
    "                   zeroCrossing[i,j-1],zeroCrossing[i,j],zeroCrossing[i,j+1],\\\n",
    "                   zeroCrossing[i+1,j-1],zeroCrossing[i+1,j],zeroCrossing[i+1,j+1]].count(-1)>0):\n",
    "                    output[i-1,j-1]=0\n",
    "            else:\n",
    "                output[i-1,j-1]=255\n",
    "    for i in range(rows):\n",
    "        for j in range(cols):\n",
    "            if(output[i,j]==255):\n",
    "                output[i,j]=0\n",
    "            else:\n",
    "                output[i,j]=255\n",
    "    return output\n"
   ]
  },
  {
   "cell_type": "code",
   "execution_count": 8,
   "metadata": {},
   "outputs": [
    {
     "data": {
      "text/plain": [
       "True"
      ]
     },
     "execution_count": 8,
     "metadata": {},
     "output_type": "execute_result"
    }
   ],
   "source": [
    "#test\n",
    "src=cv2.imread(\"lena.bmp\",0)\n",
    "test=differenceOfGaussian(src,1)\n",
    "cv2.imwrite(\"differenceOfGaussian.bmp\",test)"
   ]
  },
  {
   "cell_type": "code",
   "execution_count": null,
   "metadata": {},
   "outputs": [],
   "source": []
  }
 ],
 "metadata": {
  "kernelspec": {
   "display_name": "Python 3",
   "language": "python",
   "name": "python3"
  },
  "language_info": {
   "codemirror_mode": {
    "name": "ipython",
    "version": 3
   },
   "file_extension": ".py",
   "mimetype": "text/x-python",
   "name": "python",
   "nbconvert_exporter": "python",
   "pygments_lexer": "ipython3",
   "version": "3.7.1"
  }
 },
 "nbformat": 4,
 "nbformat_minor": 2
}
