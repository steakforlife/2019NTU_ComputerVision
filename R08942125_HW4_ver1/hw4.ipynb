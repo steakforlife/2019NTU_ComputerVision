{
 "cells": [
  {
   "cell_type": "code",
   "execution_count": 1,
   "metadata": {},
   "outputs": [],
   "source": [
    "import numpy as np\n",
    "import cv2\n",
    "from matplotlib import pyplot as plt"
   ]
  },
  {
   "cell_type": "code",
   "execution_count": 2,
   "metadata": {},
   "outputs": [
    {
     "data": {
      "text/plain": [
       "True"
      ]
     },
     "execution_count": 2,
     "metadata": {},
     "output_type": "execute_result"
    }
   ],
   "source": [
    "src=cv2.imread(\"lena.bmp\",cv2.IMREAD_GRAYSCALE)\n",
    "#hw2實做過的function\n",
    "rows,cols=src.shape\n",
    "srcBinary=np.zeros(shape=src.shape,dtype=src.dtype)\n",
    "for i in range (rows):\n",
    "    for j in range(cols):\n",
    "        if src[i,j]>128:\n",
    "            srcBinary[i,j]=255\n",
    "        else:\n",
    "            srcBinary[i,j]=0\n",
    "cv2.imwrite(\"lenaBinary.png\",srcBinary)"
   ]
  },
  {
   "cell_type": "code",
   "execution_count": 3,
   "metadata": {},
   "outputs": [],
   "source": [
    "kernel=np.array([[0,1,1,1,0],\n",
    "                [1,1,1,1,1],\n",
    "                [1,1,1,1,1],\n",
    "                [1,1,1,1,1],\n",
    "                [0,1,1,1,0]])\n",
    "kernelRow,kernelCol=kernel.shape\n",
    "center=kernel[3,3]"
   ]
  },
  {
   "cell_type": "markdown",
   "metadata": {},
   "source": [
    "## dilation"
   ]
  },
  {
   "cell_type": "markdown",
   "metadata": {},
   "source": [
    "def dilationPadding(srcBinaryPadding,kernel):\n",
    "    touchCenter=np.zeros(shape=srcBinaryPadding.shape,dtype=srcBinary.dtype)\n",
    "    dilationImg=np.zeros(shape=srcBinaryPadding.shape,dtype=srcBinary.dtype)\n",
    "    kernelRow,kernelCol=kernel.shape\n",
    "    #邊界不處理\n",
    "    for i in range (2,514):\n",
    "        for j in range(2,514):\n",
    "            if(srcBinaryPadding[i,j]==255):\n",
    "                touchCenter[i,j]=1\n",
    "            if(srcBinaryPadding[i,j]==255 and touchCenter[i,j]==1):\n",
    "                for a in range(kernelRow):\n",
    "                    for b in range(kernelCol):\n",
    "                        dilationImg[i-2+a,j-2+b]=255  \n",
    "    return dilationImg "
   ]
  },
  {
   "cell_type": "code",
   "execution_count": 29,
   "metadata": {},
   "outputs": [
    {
     "data": {
      "text/plain": [
       "True"
      ]
     },
     "execution_count": 29,
     "metadata": {},
     "output_type": "execute_result"
    }
   ],
   "source": [
    "dP=dilationPadding(srcBinaryPadding,kernel)\n",
    "cv2.imwrite(\"dilationPadding.png\",dP)"
   ]
  },
  {
   "cell_type": "code",
   "execution_count": 26,
   "metadata": {},
   "outputs": [],
   "source": [
    "def dilation(srcBinary,kernel):\n",
    "    touchCenter=np.zeros(shape=srcBinary.shape,dtype=srcBinary.dtype)\n",
    "    dilationImg=np.zeros(shape=srcBinary.shape,dtype=srcBinary.dtype)\n",
    "    kernelRow,kernelCol=kernel.shape\n",
    "    #邊界不處理\n",
    "    for i in range(0,2):\n",
    "        for j in range()\n",
    "    for i in range (2,510):\n",
    "        for j in range(2,510):\n",
    "            if(srcBinary[i,j]==255):\n",
    "                touchCenter[i,j]=1\n",
    "            if(srcBinary[i,j]==255 and touchCenter[i,j]==1):\n",
    "                for a in range(kernelRow):\n",
    "                    for b in range(kernelCol):\n",
    "                        dilationImg[i-2+a,j-2+b]=255  \n",
    "    return dilationImg            \n",
    "            "
   ]
  },
  {
   "cell_type": "code",
   "execution_count": 27,
   "metadata": {},
   "outputs": [
    {
     "data": {
      "text/plain": [
       "True"
      ]
     },
     "execution_count": 27,
     "metadata": {},
     "output_type": "execute_result"
    }
   ],
   "source": [
    "D=dilation(srcBinary,kernel)\n",
    "cv2.imwrite(\"dilationImg.png\",D)"
   ]
  },
  {
   "cell_type": "markdown",
   "metadata": {},
   "source": [
    "## erosion"
   ]
  },
  {
   "cell_type": "code",
   "execution_count": null,
   "metadata": {},
   "outputs": [],
   "source": [
    "count=0\n",
    "def erosion(srcBinary,kernel):\n",
    "    #touchall=np.zeros(shape=srcBinary.shape,dtype=srcBinary.dtype)\n",
    "    erosionImg=np.zeros(shape=srcBinary.shape,dtype=srcBinary.dtype)\n",
    "    kernelRow,kernelCol=kernel.shape\n",
    "    #needed to be integer\n",
    "    kernelHalf=(kernelCol-1)//2\n",
    "    global count\n",
    "    for i in range (2,510):\n",
    "        for j in range(2,510):\n",
    "            count=0\n",
    "            for a in range(kernelRow):\n",
    "                for b in range(kernelCol):\n",
    "                    if(srcBinary[i-kernelHalf+a,j-kernelHalf+b]*kernel[a,b]>1):\n",
    "                        count=count+1\n",
    "                    if(count==np.count_nonzero(kernel)):\n",
    "                        erosionImg[i,j]=255                       \n",
    "    return erosionImg"
   ]
  },
  {
   "cell_type": "code",
   "execution_count": null,
   "metadata": {},
   "outputs": [],
   "source": [
    "E=erosion(srcBinary,kernel)\n",
    "cv2.imwrite(\"erosionImg.png\",E)"
   ]
  },
  {
   "cell_type": "markdown",
   "metadata": {},
   "source": [
    "## opening"
   ]
  },
  {
   "cell_type": "code",
   "execution_count": null,
   "metadata": {},
   "outputs": [],
   "source": [
    "#先erosion再dilation\n",
    "Opening=erosion(srcBinary,kernel)\n",
    "OpeningResult=dilation(Opening,kernel)\n",
    "cv2.imwrite(\"openingImag.png\",OpeningResult)"
   ]
  },
  {
   "cell_type": "markdown",
   "metadata": {},
   "source": [
    "## closing"
   ]
  },
  {
   "cell_type": "code",
   "execution_count": null,
   "metadata": {},
   "outputs": [],
   "source": [
    "#先dilation再erosion\n",
    "Closing=dilation(srcBinary,kernel)\n",
    "ClosingResult=erosion(Closing,kernel)\n",
    "cv2.imwrite(\"closingImg.png\",ClosingResult)"
   ]
  },
  {
   "cell_type": "markdown",
   "metadata": {},
   "source": [
    "## hit-and-miss transform"
   ]
  },
  {
   "cell_type": "code",
   "execution_count": null,
   "metadata": {},
   "outputs": [],
   "source": [
    "#A:binary image\n",
    "def hitAndMiss (A,kernelJ,kernelK):\n",
    "    #the complement of A\n",
    "    rowA,colA=A.shape\n",
    "    Ac=np.zeros(shape=A.shape,dtype=A.dtype)\n",
    "    hitAndMissOutput=np.zeros(shape=A.shape,dtype=A.dtype)\n",
    "    for i in range (rowA):\n",
    "        for j in range(colA):\n",
    "            if A[i,j]==255:\n",
    "                Ac[i,j]=0\n",
    "            else:\n",
    "                Ac[i,j]=255\n",
    "    firstComponent=erosion(A,kernelJ)\n",
    "    secondComponent=erosion(Ac,kernelK)\n",
    "    for i in range(rowA):\n",
    "        for j in range(colA):\n",
    "            if(firstComponent[i,j]==255 and secondComponent[i,j]==255):\n",
    "                hitAndMissOutput[i,j]=255\n",
    "    return hitAndMissOutput"
   ]
  },
  {
   "cell_type": "code",
   "execution_count": null,
   "metadata": {},
   "outputs": [],
   "source": [
    "kernelJ=np.array([[0,0,0],\n",
    "                  [1,1,0],\n",
    "                  [0,1,0]])\n",
    "\n",
    "kernelK=np.array([[0,1,1],\n",
    "                  [0,0,1],\n",
    "                  [0,0,0]])\n",
    "H=hitAndMiss(srcBinary,kernelJ,kernelK)\n",
    "cv2.imwrite(\"hitAndMissImg.png\",H)"
   ]
  }
 ],
 "metadata": {
  "kernelspec": {
   "display_name": "Python 3",
   "language": "python",
   "name": "python3"
  },
  "language_info": {
   "codemirror_mode": {
    "name": "ipython",
    "version": 3
   },
   "file_extension": ".py",
   "mimetype": "text/x-python",
   "name": "python",
   "nbconvert_exporter": "python",
   "pygments_lexer": "ipython3",
   "version": "3.7.1"
  }
 },
 "nbformat": 4,
 "nbformat_minor": 2
}
