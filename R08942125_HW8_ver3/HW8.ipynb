{
 "cells": [
  {
   "cell_type": "code",
   "execution_count": 1,
   "metadata": {},
   "outputs": [],
   "source": [
    "import cv2\n",
    "import numpy as np\n",
    "import random"
   ]
  },
  {
   "cell_type": "code",
   "execution_count": 3,
   "metadata": {},
   "outputs": [],
   "source": [
    "src=cv2.imread(\"lena.bmp\",cv2.IMREAD_GRAYSCALE)"
   ]
  },
  {
   "cell_type": "code",
   "execution_count": 4,
   "metadata": {},
   "outputs": [],
   "source": [
    "def generateGaussianNoise(image,amplitude):\n",
    "    \"\"\"\n",
    "    image:Mat(2D-array)\n",
    "    amplitude:noise intensity(int)\n",
    "    output:Mat(2D-array)\n",
    "    \"\"\"\n",
    "    rows,cols=image.shape\n",
    "    noiseImg=np.zeros(shape=image.shape,dtype=image.dtype)\n",
    "    for i in range(rows):\n",
    "        for j in range(cols):\n",
    "            noiseImg[i,j]=image[i,j]+amplitude*random.gauss(0,1)\n",
    "    return noiseImg"
   ]
  },
  {
   "cell_type": "code",
   "execution_count": 5,
   "metadata": {},
   "outputs": [],
   "source": [
    "def generateSPNoise(image,amplitude):\n",
    "    \"\"\"\n",
    "    image:Mat(2D-array)\n",
    "    amplitude:noise intensity(int)\n",
    "    output:Mat(2D-array)\n",
    "    \"\"\"\n",
    "    rows,cols=image.shape\n",
    "    noiseImg=np.zeros(shape=image.shape,dtype=image.dtype)\n",
    "    for i in range(rows):\n",
    "        for j in range(cols):\n",
    "            ran=random.uniform(0,1)\n",
    "            if(ran>(1-amplitude)):\n",
    "                noiseImg[i,j]=255\n",
    "            elif(ran<amplitude):\n",
    "                noiseImg[i,j]=0\n",
    "            else:\n",
    "                noiseImg[i,j]=image[i,j]\n",
    "    return noiseImg"
   ]
  },
  {
   "cell_type": "code",
   "execution_count": 6,
   "metadata": {},
   "outputs": [],
   "source": [
    "def boxFilter(image,boxsize):\n",
    "    \"\"\"\n",
    "    image:Mat(2D-array)\n",
    "    boxsize:odd integer(int)\n",
    "    output:Mat(2D-array)\n",
    "    \"\"\"\n",
    "    boxWidth=boxsize//2\n",
    "    boxHeight=boxsize//2\n",
    "    imagePad=np.pad(image,((boxWidth,boxWidth),(boxHeight,boxHeight)),'reflect')\n",
    "    rows,cols=image.shape\n",
    "    noiseImg=np.zeros(shape=image.shape,dtype=image.dtype)\n",
    "    for i in range(rows):\n",
    "        for j in range(cols):   \n",
    "            noiseImg[i,j]=np.mean(imagePad[i:i+boxWidth,j:j+boxHeight])\n",
    "    return noiseImg"
   ]
  },
  {
   "cell_type": "code",
   "execution_count": 7,
   "metadata": {},
   "outputs": [],
   "source": [
    "def medianfilter(image,boxsize):\n",
    "    \"\"\"\n",
    "    image:Mat(2D-array)\n",
    "    boxsize:odd integer(int)\n",
    "    output:Mat(2D-array)\n",
    "    \"\"\"\n",
    "    boxWidth=boxsize//2\n",
    "    boxHeight=boxsize//2\n",
    "    imagePad=np.pad(image,((boxWidth,boxWidth),(boxHeight,boxHeight)),'reflect')\n",
    "    rows,cols=image.shape\n",
    "    noiseImg=np.zeros(shape=image.shape,dtype=image.dtype)\n",
    "    for i in range(rows):\n",
    "        for j in range(cols):\n",
    "            seeds=imagePad[i:i+boxsize,j:j+boxsize].flatten()\n",
    "            order=sorted(seeds)\n",
    "            noiseImg[i,j]=order[boxsize*boxHeight+boxWidth]\n",
    "    return noiseImg"
   ]
  },
  {
   "cell_type": "markdown",
   "metadata": {},
   "source": [
    "## opening and closing"
   ]
  },
  {
   "cell_type": "code",
   "execution_count": 8,
   "metadata": {},
   "outputs": [],
   "source": [
    "kernel=np.array([[0,1,1,1,0],\n",
    "                [1,1,1,1,1],\n",
    "                [1,1,1,1,1],\n",
    "                [1,1,1,1,1],\n",
    "                [0,1,1,1,0]])\n",
    "kernelRow,kernelCol=kernel.shape\n",
    "center=kernel[3,3]"
   ]
  },
  {
   "cell_type": "code",
   "execution_count": 9,
   "metadata": {},
   "outputs": [],
   "source": [
    "def grayScaleDilation(src,kernel):\n",
    "    dilationImg=np.zeros(shape=src.shape,dtype=src.dtype)\n",
    "    dilateKernel=np.zeros(shape=kernel.shape,dtype=kernel.dtype)\n",
    "    kernelHalf=(kernelCol-1)//2\n",
    "    maximum=0\n",
    "    for i in range(2,510):\n",
    "        for j in range(2,510):\n",
    "            for a in range(kernelRow):\n",
    "                for b in range(kernelCol):\n",
    "                    dilateKernel[a,b]=src[i-kernelHalf+a,j-kernelHalf+b]+kernel[a,b]\n",
    "            dilationImg[i,j]=dilateKernel.max()\n",
    "    return dilationImg"
   ]
  },
  {
   "cell_type": "code",
   "execution_count": 73,
   "metadata": {},
   "outputs": [],
   "source": [
    "\n",
    "def grayScaleErosion(src,kernel):\n",
    "    erosionImg=np.zeros(shape=src.shape,dtype=src.dtype)\n",
    "    kernelHalf=(kernelCol-1)//2\n",
    "    erosionKernel=np.zeros(shape=kernel.shape,dtype=src.dtype)\n",
    "    global count,minimum\n",
    "    for i in range(2,510):\n",
    "        for j in range(2,510):\n",
    "            count=0\n",
    "            minimum=255\n",
    "            for a in range(kernelRow):\n",
    "                for b in range(kernelCol):\n",
    "                    if(src[i-kernelHalf+a,j-kernelHalf+b]*kernel[a,b]!=0):\n",
    "                        count=count+1\n",
    "                        erosionKernel[a,b]=src[i-kernelHalf+a,j-kernelHalf+b]-kernel[a,b]\n",
    "                        minimum=min(erosionKernel[a,b],minimum)\n",
    "                    if(count==np.count_nonzero(kernel)):\n",
    "                        erosionImg[i,j]=minimum\n",
    "    return erosionImg"
   ]
  },
  {
   "cell_type": "code",
   "execution_count": 74,
   "metadata": {},
   "outputs": [],
   "source": [
    "def grayscaleOpening(image,kernel):\n",
    "    temp=grayScaleErosion(image,kernel)\n",
    "    output=grayScaleDilation(temp,kernel)\n",
    "    return output"
   ]
  },
  {
   "cell_type": "code",
   "execution_count": 75,
   "metadata": {},
   "outputs": [],
   "source": [
    "def grayscaleClosing(image,kernel):\n",
    "    temp=grayScaleDilation(image,kernel)\n",
    "    output=grayScaleErosion(temp,kernel)\n",
    "    return output"
   ]
  },
  {
   "cell_type": "markdown",
   "metadata": {},
   "source": [
    "## SNR"
   ]
  },
  {
   "cell_type": "code",
   "execution_count": 5,
   "metadata": {},
   "outputs": [],
   "source": [
    "def normalize(image):\n",
    "    #pixelmax=255\n",
    "    #pixelmin=0\n",
    "    rows,cols=image.shape\n",
    "    normalized=np.zeros(shape=image.shape)\n",
    "    for i in range(rows):\n",
    "        for j in range(cols):\n",
    "            normalized[i,j]=(image[i,j])/(255)\n",
    "    return normalized"
   ]
  },
  {
   "cell_type": "code",
   "execution_count": 6,
   "metadata": {},
   "outputs": [],
   "source": [
    "def SNR(original,noise):\n",
    "    import math\n",
    "    vs=0\n",
    "    u=0\n",
    "    vn=0\n",
    "    un=0\n",
    "    #cv2.normalize(original,original, 0.0, 1.0, cv2.NORM_MINMAX)\n",
    "    #cv2.normalize(noise,noise, 0.0, 1.0, cv2.NORM_MINMAX)\n",
    "    rows,cols=original.shape\n",
    "    #u\n",
    "    for i in range (rows):\n",
    "        for j in range(cols):\n",
    "            u+=original[i,j]\n",
    "    u=u/original.size\n",
    "    #vs\n",
    "    for i in range(rows):\n",
    "        for j in range(cols):\n",
    "            vs+=math.pow(original[i,j]-u,2)\n",
    "    vs=vs/original.size\n",
    "    #un\n",
    "    for i in range(rows):\n",
    "        for j in range(cols):\n",
    "            un+= noise[i,j]-original[i,j]\n",
    "    un=un/original.size\n",
    "    #vn\n",
    "    for i in range(rows):\n",
    "        for j in range(cols):\n",
    "             vn += math.pow(noise[i,j] - original[i,j] - un, 2)\n",
    "    vn=vn/original.size\n",
    "    #SNR\n",
    "    temp=math.sqrt(vs)/math.sqrt(vn)\n",
    "    return 20*math.log(temp,10)"
   ]
  },
  {
   "cell_type": "code",
   "execution_count": 7,
   "metadata": {},
   "outputs": [
    {
     "data": {
      "text/plain": [
       "15.673697071703497"
      ]
     },
     "execution_count": 7,
     "metadata": {},
     "output_type": "execute_result"
    }
   ],
   "source": [
    "#test snr\n",
    "lena=cv2.imread(\"lena.bmp\",0)\n",
    "median=cv2.imread(\"median_5x5.bmp\",0)\n",
    "lean=normalize(lena)\n",
    "median=normalize(median)\n",
    "snr=SNR(lean,median)\n",
    "snr\n"
   ]
  },
  {
   "cell_type": "code",
   "execution_count": 113,
   "metadata": {},
   "outputs": [
    {
     "data": {
      "text/plain": [
       "512"
      ]
     },
     "execution_count": 113,
     "metadata": {},
     "output_type": "execute_result"
    }
   ],
   "source": [
    "src.shape[1]"
   ]
  },
  {
   "cell_type": "markdown",
   "metadata": {},
   "source": [
    "**1.box filter3*3**\n",
    "\n",
    "**2.box filter 5*5**\n",
    "\n",
    "**3.median filter 3*3**\n",
    "\n",
    "**4.median filter 5*5**\n",
    "\n",
    "**opening then closing**\n",
    "\n",
    "**closing then opening**\n",
    "\n",
    "//each with SNR//\n",
    "\n"
   ]
  },
  {
   "cell_type": "markdown",
   "metadata": {},
   "source": [
    "### gaussian noise with amplitude=10"
   ]
  },
  {
   "cell_type": "code",
   "execution_count": 14,
   "metadata": {},
   "outputs": [],
   "source": [
    "noiseG10=generateGaussianNoise(src,10)\n",
    "cv2.imwrite(\"noiseG10.png\",noiseG10)"
   ]
  },
  {
   "cell_type": "code",
   "execution_count": 16,
   "metadata": {
    "scrolled": true
   },
   "outputs": [],
   "source": [
    "box3=boxFilter(noiseG10,3)\n",
    "cv2.imwrite(\"box3.png\",box3)"
   ]
  },
  {
   "cell_type": "code",
   "execution_count": 19,
   "metadata": {},
   "outputs": [],
   "source": [
    "box5=boxFilter(noiseG10,5)\n",
    "#cv2.imwrite(\"box5.png\",box5)"
   ]
  },
  {
   "cell_type": "code",
   "execution_count": 20,
   "metadata": {},
   "outputs": [],
   "source": [
    "median3=medianfilter(noiseG10,3)\n",
    "#cv2.imwrite(\"median3.png\",median3)"
   ]
  },
  {
   "cell_type": "code",
   "execution_count": 21,
   "metadata": {},
   "outputs": [],
   "source": [
    "median5=medianfilter(noiseG10,5)\n",
    "#cv2.imwrite(\"median5.png\",median5)"
   ]
  },
  {
   "cell_type": "code",
   "execution_count": 125,
   "metadata": {},
   "outputs": [
    {
     "data": {
      "text/plain": [
       "True"
      ]
     },
     "execution_count": 125,
     "metadata": {},
     "output_type": "execute_result"
    }
   ],
   "source": [
    "openThenClose=grayscaleOpening(noiseG10,kernel)\n",
    "openThenClose=grayscaleClosing(openThenClose,kernel)\n",
    "cv2.imwrite(\"openThenClose.png\",openThenClose)"
   ]
  },
  {
   "cell_type": "code",
   "execution_count": 124,
   "metadata": {},
   "outputs": [
    {
     "data": {
      "text/plain": [
       "True"
      ]
     },
     "execution_count": 124,
     "metadata": {},
     "output_type": "execute_result"
    }
   ],
   "source": [
    "temp=grayscaleClosing(noiseG10,kernel)\n",
    "closethenopen=grayscaleOpening(temp,kernel)\n",
    "cv2.imwrite(\"closeThenOpen.png\",closethenopen)"
   ]
  },
  {
   "cell_type": "markdown",
   "metadata": {},
   "source": [
    "###  gaussian noise with amplitude=30"
   ]
  },
  {
   "cell_type": "code",
   "execution_count": 52,
   "metadata": {},
   "outputs": [
    {
     "data": {
      "text/plain": [
       "True"
      ]
     },
     "execution_count": 52,
     "metadata": {},
     "output_type": "execute_result"
    }
   ],
   "source": [
    "noiseG30=generateGaussianNoise(src,30)\n",
    "cv2.imwrite(\"noiseG30.png\",noiseG30)"
   ]
  },
  {
   "cell_type": "code",
   "execution_count": 53,
   "metadata": {},
   "outputs": [
    {
     "data": {
      "text/plain": [
       "True"
      ]
     },
     "execution_count": 53,
     "metadata": {},
     "output_type": "execute_result"
    }
   ],
   "source": [
    "box3=boxFilter(noiseG30,3)\n",
    "cv2.imwrite(\"box3.png\",box3)"
   ]
  },
  {
   "cell_type": "code",
   "execution_count": 54,
   "metadata": {},
   "outputs": [
    {
     "data": {
      "text/plain": [
       "True"
      ]
     },
     "execution_count": 54,
     "metadata": {},
     "output_type": "execute_result"
    }
   ],
   "source": [
    "box5=boxFilter(noiseG30,5)\n",
    "cv2.imwrite(\"box5.png\",box5)"
   ]
  },
  {
   "cell_type": "code",
   "execution_count": 55,
   "metadata": {},
   "outputs": [
    {
     "data": {
      "text/plain": [
       "True"
      ]
     },
     "execution_count": 55,
     "metadata": {},
     "output_type": "execute_result"
    }
   ],
   "source": [
    "median3=medianfilter(noiseG30,3)\n",
    "cv2.imwrite(\"median3.png\",median3)"
   ]
  },
  {
   "cell_type": "code",
   "execution_count": 56,
   "metadata": {},
   "outputs": [
    {
     "data": {
      "text/plain": [
       "True"
      ]
     },
     "execution_count": 56,
     "metadata": {},
     "output_type": "execute_result"
    }
   ],
   "source": [
    "median5=medianfilter(noiseG30,5)\n",
    "cv2.imwrite(\"median5.png\",median5)"
   ]
  },
  {
   "cell_type": "code",
   "execution_count": 39,
   "metadata": {},
   "outputs": [
    {
     "data": {
      "text/plain": [
       "True"
      ]
     },
     "execution_count": 39,
     "metadata": {},
     "output_type": "execute_result"
    }
   ],
   "source": [
    "openThenClose=grayscaleOpening(noiseG30,kernel)\n",
    "openThenClose=grayscaleClosing(openThenClose,kernel)\n",
    "cv2.imwrite(\"openThenClose.png\",openThenClose)"
   ]
  },
  {
   "cell_type": "code",
   "execution_count": 40,
   "metadata": {},
   "outputs": [
    {
     "data": {
      "text/plain": [
       "True"
      ]
     },
     "execution_count": 40,
     "metadata": {},
     "output_type": "execute_result"
    }
   ],
   "source": [
    "temp=grayscaleClosing(noiseG30,kernel)\n",
    "closethenopen=grayscaleOpening(temp,kernel)\n",
    "cv2.imwrite(\"closeThenOpen.png\",closethenopen)"
   ]
  },
  {
   "cell_type": "markdown",
   "metadata": {},
   "source": [
    "### S&P noise with Prob. =0.1"
   ]
  },
  {
   "cell_type": "code",
   "execution_count": 57,
   "metadata": {},
   "outputs": [
    {
     "data": {
      "text/plain": [
       "True"
      ]
     },
     "execution_count": 57,
     "metadata": {},
     "output_type": "execute_result"
    }
   ],
   "source": [
    "noiseSP01=generateSPNoise(src,0.1)\n",
    "cv2.imwrite(\"noiseSP01.png\",noiseSP01)"
   ]
  },
  {
   "cell_type": "code",
   "execution_count": 58,
   "metadata": {},
   "outputs": [
    {
     "data": {
      "text/plain": [
       "True"
      ]
     },
     "execution_count": 58,
     "metadata": {},
     "output_type": "execute_result"
    }
   ],
   "source": [
    "box3=boxFilter(noiseSP01,3)\n",
    "cv2.imwrite(\"box3.png\",box3)"
   ]
  },
  {
   "cell_type": "code",
   "execution_count": 59,
   "metadata": {},
   "outputs": [
    {
     "data": {
      "text/plain": [
       "True"
      ]
     },
     "execution_count": 59,
     "metadata": {},
     "output_type": "execute_result"
    }
   ],
   "source": [
    "box5=boxFilter(noiseSP01,5)\n",
    "cv2.imwrite(\"box5.png\",box5)"
   ]
  },
  {
   "cell_type": "code",
   "execution_count": 60,
   "metadata": {},
   "outputs": [
    {
     "data": {
      "text/plain": [
       "True"
      ]
     },
     "execution_count": 60,
     "metadata": {},
     "output_type": "execute_result"
    }
   ],
   "source": [
    "median3=medianfilter(noiseSP01,3)\n",
    "cv2.imwrite(\"median3.png\",median3)"
   ]
  },
  {
   "cell_type": "code",
   "execution_count": 61,
   "metadata": {},
   "outputs": [
    {
     "data": {
      "text/plain": [
       "True"
      ]
     },
     "execution_count": 61,
     "metadata": {},
     "output_type": "execute_result"
    }
   ],
   "source": [
    "median5=medianfilter(noiseSP01,5)\n",
    "cv2.imwrite(\"median5.png\",median5)"
   ]
  },
  {
   "cell_type": "code",
   "execution_count": 62,
   "metadata": {},
   "outputs": [
    {
     "data": {
      "text/plain": [
       "True"
      ]
     },
     "execution_count": 62,
     "metadata": {},
     "output_type": "execute_result"
    }
   ],
   "source": [
    "openThenClose=grayscaleOpening(noiseSP01,kernel)\n",
    "openThenClose=grayscaleClosing(openThenClose,kernel)\n",
    "cv2.imwrite(\"openThenClose.png\",openThenClose)"
   ]
  },
  {
   "cell_type": "code",
   "execution_count": 64,
   "metadata": {},
   "outputs": [
    {
     "data": {
      "text/plain": [
       "True"
      ]
     },
     "execution_count": 64,
     "metadata": {},
     "output_type": "execute_result"
    }
   ],
   "source": [
    "temp=grayscaleClosing(noiseSP01,kernel)\n",
    "closethenopen=grayscaleOpening(temp,kernel)\n",
    "cv2.imwrite(\"closeThenOpen.png\",closethenopen)"
   ]
  },
  {
   "cell_type": "markdown",
   "metadata": {},
   "source": [
    "### S&P noise with Prob. =0.05"
   ]
  },
  {
   "cell_type": "code",
   "execution_count": 65,
   "metadata": {},
   "outputs": [
    {
     "data": {
      "text/plain": [
       "True"
      ]
     },
     "execution_count": 65,
     "metadata": {},
     "output_type": "execute_result"
    }
   ],
   "source": [
    "noiseSP005=generateSPNoise(src,0.05)\n",
    "cv2.imwrite(\"noiseSP005.png\",noiseSP005)"
   ]
  },
  {
   "cell_type": "code",
   "execution_count": 66,
   "metadata": {},
   "outputs": [
    {
     "data": {
      "text/plain": [
       "True"
      ]
     },
     "execution_count": 66,
     "metadata": {},
     "output_type": "execute_result"
    }
   ],
   "source": [
    "box3=boxFilter(noiseSP005,3)\n",
    "cv2.imwrite(\"box3.png\",box3)"
   ]
  },
  {
   "cell_type": "code",
   "execution_count": 67,
   "metadata": {},
   "outputs": [
    {
     "data": {
      "text/plain": [
       "True"
      ]
     },
     "execution_count": 67,
     "metadata": {},
     "output_type": "execute_result"
    }
   ],
   "source": [
    "box5=boxFilter(noiseSP005,5)\n",
    "cv2.imwrite(\"box5.png\",box5)"
   ]
  },
  {
   "cell_type": "code",
   "execution_count": 68,
   "metadata": {},
   "outputs": [
    {
     "data": {
      "text/plain": [
       "True"
      ]
     },
     "execution_count": 68,
     "metadata": {},
     "output_type": "execute_result"
    }
   ],
   "source": [
    "median3=medianfilter(noiseSP005,3)\n",
    "cv2.imwrite(\"median3.png\",median3)"
   ]
  },
  {
   "cell_type": "code",
   "execution_count": 69,
   "metadata": {},
   "outputs": [
    {
     "data": {
      "text/plain": [
       "True"
      ]
     },
     "execution_count": 69,
     "metadata": {},
     "output_type": "execute_result"
    }
   ],
   "source": [
    "median5=medianfilter(noiseSP005,5)\n",
    "cv2.imwrite(\"median5.png\",median5)"
   ]
  },
  {
   "cell_type": "code",
   "execution_count": 70,
   "metadata": {},
   "outputs": [
    {
     "data": {
      "text/plain": [
       "True"
      ]
     },
     "execution_count": 70,
     "metadata": {},
     "output_type": "execute_result"
    }
   ],
   "source": [
    "openThenClose=grayscaleOpening(noiseSP005,kernel)\n",
    "openThenClose=grayscaleClosing(openThenClose,kernel)\n",
    "cv2.imwrite(\"openThenClose.png\",openThenClose)"
   ]
  },
  {
   "cell_type": "code",
   "execution_count": 76,
   "metadata": {},
   "outputs": [
    {
     "data": {
      "text/plain": [
       "True"
      ]
     },
     "execution_count": 76,
     "metadata": {},
     "output_type": "execute_result"
    }
   ],
   "source": [
    "temp=grayscaleClosing(noiseSP005,kernel)\n",
    "closethenopen=grayscaleOpening(temp,kernel)\n",
    "cv2.imwrite(\"closeThenOpen.png\",closethenopen)"
   ]
  },
  {
   "cell_type": "code",
   "execution_count": null,
   "metadata": {},
   "outputs": [],
   "source": []
  }
 ],
 "metadata": {
  "kernelspec": {
   "display_name": "Python 3",
   "language": "python",
   "name": "python3"
  },
  "language_info": {
   "codemirror_mode": {
    "name": "ipython",
    "version": 3
   },
   "file_extension": ".py",
   "mimetype": "text/x-python",
   "name": "python",
   "nbconvert_exporter": "python",
   "pygments_lexer": "ipython3",
   "version": "3.7.1"
  }
 },
 "nbformat": 4,
 "nbformat_minor": 2
}
