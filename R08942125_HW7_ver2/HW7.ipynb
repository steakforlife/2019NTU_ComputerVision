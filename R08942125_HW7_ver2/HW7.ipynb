{
 "cells": [
  {
   "cell_type": "code",
   "execution_count": 19,
   "metadata": {},
   "outputs": [],
   "source": [
    "import numpy as np\n",
    "import cv2"
   ]
  },
  {
   "cell_type": "code",
   "execution_count": 20,
   "metadata": {},
   "outputs": [
    {
     "data": {
      "text/plain": [
       "True"
      ]
     },
     "execution_count": 20,
     "metadata": {},
     "output_type": "execute_result"
    }
   ],
   "source": [
    "src=cv2.imread(\"lena.bmp\",cv2.IMREAD_GRAYSCALE)\n",
    "#hw2實做過的function\n",
    "rows,cols=src.shape\n",
    "srcBinary=np.zeros(shape=src.shape,dtype=src.dtype)\n",
    "for i in range (rows):\n",
    "    for j in range(cols):\n",
    "        if src[i,j]>128:\n",
    "            srcBinary[i,j]=255\n",
    "        else:\n",
    "            srcBinary[i,j]=0\n",
    "cv2.imwrite(\"lenaBinary.png\",srcBinary)"
   ]
  },
  {
   "cell_type": "code",
   "execution_count": 38,
   "metadata": {},
   "outputs": [],
   "source": [
    "def downsampling (image,sampleFactor):\n",
    "    \"\"\"\n",
    "    input:image,Mat(opencv)\n",
    "    sampleFactor: 要縮小的倍數\n",
    "    output:image after downsample\n",
    "    \"\"\"\n",
    "    rows,cols=image.shape\n",
    "    rowsD=int(rows/sampleFactor)\n",
    "    colsD=int(cols/sampleFactor)\n",
    "    downsampleImg=np.zeros(shape=(rowsD,colsD),dtype=image.dtype)\n",
    "    for i in range(rowsD):\n",
    "        for j in range(colsD):\n",
    "            downsampleImg[i,j]=image[i*sampleFactor,j*sampleFactor]\n",
    "    return downsampleImg"
   ]
  },
  {
   "cell_type": "code",
   "execution_count": 39,
   "metadata": {},
   "outputs": [],
   "source": [
    "downsample=downsampling(srcBinary,8)"
   ]
  },
  {
   "cell_type": "code",
   "execution_count": 5,
   "metadata": {},
   "outputs": [],
   "source": [
    "def fYokoi(a1,a2,a3,a4):\n",
    "    \"\"\"\n",
    "    input: str\n",
    "    output: str\n",
    "    \"\"\"\n",
    "    if ([a1,a2,a3,a4].count('r')==4):\n",
    "        return 5\n",
    "    else:\n",
    "        return [a1,a2,a3,a4].count('q')"
   ]
  },
  {
   "cell_type": "code",
   "execution_count": 6,
   "metadata": {},
   "outputs": [],
   "source": [
    "def hYokoi(b,c,d,e):\n",
    "    \"\"\"\n",
    "    input: int\n",
    "    output: str\n",
    "    \"\"\"\n",
    "    if b==c and (d!=b or e!=b):\n",
    "        return'q'\n",
    "    elif b==c and (d==b and e==b):\n",
    "        return'r'\n",
    "    elif b!=c:\n",
    "        return's'"
   ]
  },
  {
   "cell_type": "code",
   "execution_count": 7,
   "metadata": {},
   "outputs": [],
   "source": [
    "def getNeighborPixels (image,position):\n",
    "    \"\"\"\n",
    "    input: image,position\n",
    "    output: np.array\n",
    "    \"\"\"\n",
    "    positionX,positionY=position\n",
    "    neighborhoodPixels=np.zeros(9)\n",
    "    for i in range(3):\n",
    "        for j in range(3):\n",
    "            dstX=positionX+(i-1)\n",
    "            dstY=positionY+(j-1)\n",
    "            if((0<=dstX<image[0].size) and (0<=dstY<image[1].size)):\n",
    "                neighborhoodPixels[3*j+i]=image[dstX,dstY]\n",
    "            else:\n",
    "                neighborhoodPixels[3*j+i]=0\n",
    "    neighborhoodPixels=[neighborhoodPixels[4],neighborhoodPixels[5],neighborhoodPixels[1]\n",
    "                       ,neighborhoodPixels[3],neighborhoodPixels[7],neighborhoodPixels[8]\n",
    "                       ,neighborhoodPixels[2],neighborhoodPixels[0],neighborhoodPixels[6]]\n",
    "    return neighborhoodPixels"
   ]
  },
  {
   "cell_type": "code",
   "execution_count": 8,
   "metadata": {},
   "outputs": [],
   "source": [
    "def yokoiConnectivityNumber(image):\n",
    "    \"\"\"\n",
    "    input: downsampled image\n",
    "    output: chararray\n",
    "    \"\"\"\n",
    "    rows,cols=image.shape\n",
    "    connectNum = np.chararray(shape=image.shape,unicode=True)\n",
    "    for i in range(rows):\n",
    "        for j in range(cols):\n",
    "            if(image[i,j]!=0):\n",
    "                neighborhoodPixels= getNeighborPixels(image,(i,j))\n",
    "                a1= hYokoi(neighborhoodPixels[0],neighborhoodPixels[1],neighborhoodPixels[6],neighborhoodPixels[2])\n",
    "                a2= hYokoi(neighborhoodPixels[0],neighborhoodPixels[2],neighborhoodPixels[7],neighborhoodPixels[3])\n",
    "                a3= hYokoi(neighborhoodPixels[0],neighborhoodPixels[3],neighborhoodPixels[8],neighborhoodPixels[4])\n",
    "                a4= hYokoi(neighborhoodPixels[0],neighborhoodPixels[4],neighborhoodPixels[5],neighborhoodPixels[1])\n",
    "                connectNum[i,j]=fYokoi(a1,a2,a3,a4)\n",
    "            else:\n",
    "                connectNum[i,j]=' '\n",
    "            if connectNum[i,j]=='0':\n",
    "                connectNum[i,j]=' '\n",
    "    return connectNum"
   ]
  },
  {
   "cell_type": "code",
   "execution_count": 46,
   "metadata": {},
   "outputs": [],
   "source": [
    "def yokoi(image):\n",
    "    yokoiConnect = np.zeros(shape=image.shape,dtype=image.dtype)\n",
    "    rows,cols=image.shape\n",
    "    for i in range(rows):\n",
    "        for j in range(cols):\n",
    "            if image[i,j]!=0:\n",
    "                a1 = a2 = a3 = a4 = \"s\"\n",
    "                b = image[i,j]\n",
    "                #a1\n",
    "                c = d = e = 0\n",
    "                if j != cols - 1 and i != 0:\n",
    "                    c = image[i,j+1]\n",
    "                    d = image[i-1,j+1]\n",
    "                    e = image[i-1,j]\n",
    "                elif i != 0:\n",
    "                    e = image[i-1,j]\n",
    "                elif j != cols - 1:\n",
    "                    c = image[i,j+1]\n",
    "                a1 = hYokoi(b, c, d, e)\n",
    "                #a2\n",
    "                c = d = e = 0\n",
    "                if j != 0 and i != 0:\n",
    "                    c = image[i-1,j]\n",
    "                    d = image[i-1,j-1]\n",
    "                    e = image[i,j-1]\n",
    "                elif i != 0:\n",
    "                    c = image[i-1,j]\n",
    "                elif j != 0:\n",
    "                    e = image[i,j-1]  \n",
    "                a2 = hYokoi(b, c, d, e)\n",
    "                #a3\n",
    "                c = d = e = 0\n",
    "                if j != 0 and i != rows - 1:\n",
    "                    c = image[i,j-1]\n",
    "                    d = image[i+1,j-1]\n",
    "                    e = image[i+1,j]\n",
    "                elif i != rows - 1:\n",
    "                    e = image[i+1,j]\n",
    "                elif j != 0:\n",
    "                    c = image[i,j-1]  \n",
    "                a3 = hYokoi(b, c, d, e)\n",
    "                #a4\n",
    "                c = d = e = 0\n",
    "                if j != cols - 1 and i != rows - 1:\n",
    "                    c = image[i+1,j]\n",
    "                    d = image[i+1,j+1]\n",
    "                    e = image[i,j+1]\n",
    "                elif i != rows - 1:\n",
    "                    c = image[i+1,j]\n",
    "                elif j != cols - 1:\n",
    "                    e = image[i,j+1]  \n",
    "                a4 = hYokoi(b, c, d, e)\n",
    "                yokoiConnect[i,j] = fYokoi(a1, a2, a3, a4)\n",
    "    return yokoiConnect"
   ]
  },
  {
   "cell_type": "markdown",
   "metadata": {},
   "source": [
    "def pairRelationshipOperator(YokoiConnectNum):\n",
    "    \"\"\"\n",
    "    input:chararray\n",
    "    output:chararray\n",
    "    \"\"\"\n",
    "    markedImg= np.chararray(shape=YokoiConnectNum.shape,unicode=True)\n",
    "    np.pad(YokoiConnectNum,((1,1),(1,1)), 'constant')\n",
    "    rows,cols=YokoiConnectNum.shape\n",
    "    for i in range(rows):\n",
    "        for j in range(cols):\n",
    "            if YokoiConnectNum[i,j]=='0':\n",
    "                YokoiConnectNum[i,j]=' '\n",
    "    for i in range(1,rows-1):\n",
    "        for j in range(1,cols-1):\n",
    "            #neighborPixel=getNeighborPixels(YokoiConnectNum,(i,j))\n",
    "            if(YokoiConnectNum[i,j]==''):\n",
    "                markedImg[i,j]=' '\n",
    "            else:\n",
    "                x1=YokoiConnectNum[i+1,j]\n",
    "                x2=YokoiConnectNum[i,j-1]\n",
    "                x3=YokoiConnectNum[i-1,j]\n",
    "                x4=YokoiConnectNum[i,j+1]\n",
    "                if (([x1,x2,x3,x4].count('1')>=1) and YokoiConnectNum[i,j]=='1'):\n",
    "                    markedImg[i,j]='p'\n",
    "                else:\n",
    "                    markedImg[i,j]='q'      \n",
    "    return markedImg"
   ]
  },
  {
   "cell_type": "code",
   "execution_count": 40,
   "metadata": {},
   "outputs": [],
   "source": [
    "def pairRelationshipOperator(image):\n",
    "    yokoiConnect=yokoi(image)\n",
    "    rows,cols=yokoiConnect.shape\n",
    "    markedImg=np.zeros([rows,cols],str)\n",
    "    for i in range(rows):\n",
    "        for j in range(cols):\n",
    "            if yokoiConnect[i,j]==1:\n",
    "                if yokoiConnect[i-1,j]==1 and i>0:\n",
    "                    markedImg[i,j]='p'\n",
    "                elif i<(rows-1) and yokoiConnect[i+1,j]==1:\n",
    "                    markedImg[i,j]='p'\n",
    "                elif j<(cols-1) and yokoiConnect[i,j+1]==1:\n",
    "                    markedImg[i,j]='p'\n",
    "                elif yokoiConnect[i,j-1]==1 and j>0:\n",
    "                    markedImg[i,j]='p'\n",
    "                else:\n",
    "                    markedImg[i,j]='q'\n",
    "            else:\n",
    "                markedImg[i,j]='q'\n",
    "    return markedImg"
   ]
  },
  {
   "cell_type": "code",
   "execution_count": 28,
   "metadata": {},
   "outputs": [],
   "source": [
    "def connectedShrinkOperator(image):\n",
    "    yokoiConnect = yokoi(image)\n",
    "    markedImg=pairRelationshipOperator(image)\n",
    "    rows,cols=markedImg.shape\n",
    "    for i in range(rows):\n",
    "        for j in range(cols):\n",
    "            if markedImg[i,j] == 'p' and yokoiConnect[i,j]==1:\n",
    "                image[i,j] = 0 \n",
    "                yokoiConnect=yokoi(image)\n",
    "    return image     "
   ]
  },
  {
   "cell_type": "code",
   "execution_count": 48,
   "metadata": {},
   "outputs": [
    {
     "data": {
      "text/plain": [
       "True"
      ]
     },
     "execution_count": 48,
     "metadata": {},
     "output_type": "execute_result"
    }
   ],
   "source": [
    "thinned=downsample\n",
    "i=0\n",
    "\n",
    "while True:\n",
    "\n",
    "    yokoiConnect=yokoi(thinned)\n",
    "    markedImg = pairRelationshipOperator(yokoiConnect)\n",
    "    temp = connectedShrinkOperator(thinned)\n",
    "    if (temp.all()==thinned.all() ):\n",
    "        break    \n",
    "    thinned = temp\n",
    "    i = i + 1\n",
    "cv2.imwrite('result.png', thinned)"
   ]
  },
  {
   "cell_type": "code",
   "execution_count": null,
   "metadata": {},
   "outputs": [],
   "source": []
  }
 ],
 "metadata": {
  "kernelspec": {
   "display_name": "Python 3",
   "language": "python",
   "name": "python3"
  },
  "language_info": {
   "codemirror_mode": {
    "name": "ipython",
    "version": 3
   },
   "file_extension": ".py",
   "mimetype": "text/x-python",
   "name": "python",
   "nbconvert_exporter": "python",
   "pygments_lexer": "ipython3",
   "version": "3.7.1"
  }
 },
 "nbformat": 4,
 "nbformat_minor": 2
}
