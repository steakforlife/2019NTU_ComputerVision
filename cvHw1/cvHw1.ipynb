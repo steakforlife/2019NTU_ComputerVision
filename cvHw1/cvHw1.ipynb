{
 "cells": [
  {
   "cell_type": "code",
   "execution_count": 18,
   "metadata": {},
   "outputs": [],
   "source": [
    "src= cv2.imread(\"lena.bmp\",cv2.IMREAD_GRAYSCALE)\n",
    "width,height=src.shape"
   ]
  },
  {
   "cell_type": "markdown",
   "metadata": {},
   "source": [
    "## upside-down lena"
   ]
  },
  {
   "cell_type": "code",
   "execution_count": 21,
   "metadata": {},
   "outputs": [
    {
     "data": {
      "text/plain": [
       "True"
      ]
     },
     "execution_count": 21,
     "metadata": {},
     "output_type": "execute_result"
    }
   ],
   "source": [
    "#upDownImg=np.flipud(src)\n",
    "for i in range(height):\n",
    "    for j in range(width):\n",
    "        upDownImg[i,j]=src[height-i-1,j]\n",
    "cv2.imwrite(\"upSideDown.bmp\",upDownImg)"
   ]
  },
  {
   "cell_type": "markdown",
   "metadata": {},
   "source": [
    "## right-side-left lena"
   ]
  },
  {
   "cell_type": "code",
   "execution_count": 22,
   "metadata": {},
   "outputs": [
    {
     "data": {
      "text/plain": [
       "True"
      ]
     },
     "execution_count": 22,
     "metadata": {},
     "output_type": "execute_result"
    }
   ],
   "source": [
    "#rightLeftImg=np.fliplr(src)\n",
    "for i in range(height):\n",
    "    for j in range(width):\n",
    "        rightLeftImg[i,j]=src[i,width-j-1]\n",
    "cv2.imwrite(\"rightSideLeft.bmp\",rightLeftImg)"
   ]
  },
  {
   "cell_type": "markdown",
   "metadata": {},
   "source": [
    "## diagonally mirrored lena "
   ]
  },
  {
   "cell_type": "code",
   "execution_count": 5,
   "metadata": {},
   "outputs": [
    {
     "data": {
      "text/plain": [
       "True"
      ]
     },
     "execution_count": 5,
     "metadata": {},
     "output_type": "execute_result"
    }
   ],
   "source": [
    "dialMirrorImg=src.T\n",
    "dialMirrorImg.shape\n",
    "#cv2.imshow(\"\",dialMirrorImg)\n",
    "#waitKey(0)\n",
    "#dialMirrorImg= Image.dialMirrorImg\n",
    "cv2.imwrite(\"dialMirrorImg.bmp\",dialMirrorImg)"
   ]
  }
 ],
 "metadata": {
  "kernelspec": {
   "display_name": "Python 3",
   "language": "python",
   "name": "python3"
  },
  "language_info": {
   "codemirror_mode": {
    "name": "ipython",
    "version": 3
   },
   "file_extension": ".py",
   "mimetype": "text/x-python",
   "name": "python",
   "nbconvert_exporter": "python",
   "pygments_lexer": "ipython3",
   "version": "3.7.1"
  }
 },
 "nbformat": 4,
 "nbformat_minor": 2
}
