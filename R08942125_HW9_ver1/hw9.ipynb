{
 "cells": [
  {
   "cell_type": "code",
   "execution_count": 1,
   "metadata": {},
   "outputs": [],
   "source": [
    "import cv2\n",
    "import numpy as np\n",
    "import math"
   ]
  },
  {
   "cell_type": "code",
   "execution_count": 4,
   "metadata": {},
   "outputs": [],
   "source": [
    "def robertOperator(image,threshold):\n",
    "    output=np.zeros(shape=image.shape,dtype=image.dtype)\n",
    "    imagePad=np.pad(image,((1,1),(1,1)),'reflect')\n",
    "    rows,cols=image.shape\n",
    "    for i in range(rows):\n",
    "        for j in range(cols):\n",
    "            r1=int(imagePad[i+2,j+2])-int(imagePad[i+1,j+1])\n",
    "            r2=int(imagePad[i+1,j+2])-int(imagePad[i+2,j+1])\n",
    "            graident=(math.sqrt(r1**2+r2**2))\n",
    "            if(graident>threshold):\n",
    "                output[i,j]=0\n",
    "            else:\n",
    "                output[i,j]=255\n",
    "    return output"
   ]
  },
  {
   "cell_type": "code",
   "execution_count": 34,
   "metadata": {
    "scrolled": true
   },
   "outputs": [
    {
     "data": {
      "text/plain": [
       "True"
      ]
     },
     "execution_count": 34,
     "metadata": {},
     "output_type": "execute_result"
    }
   ],
   "source": [
    "#test\n",
    "src=cv2.imread(\"lena.bmp\",0)\n",
    "test=robertOperator(src,12)\n",
    "cv2.imwrite(\"robert.bmp\",test)"
   ]
  },
  {
   "cell_type": "code",
   "execution_count": 13,
   "metadata": {},
   "outputs": [
    {
     "data": {
      "text/plain": [
       "161"
      ]
     },
     "execution_count": 13,
     "metadata": {},
     "output_type": "execute_result"
    }
   ],
   "source": [
    "np.where(src>255)\n",
    "srcPad=np.pad(src,((1,1),(1,1)),'reflect')\n",
    "np.where(srcPad>255)\n",
    "srcPad[2,4]"
   ]
  },
  {
   "cell_type": "code",
   "execution_count": 43,
   "metadata": {},
   "outputs": [
    {
     "name": "stdout",
     "output_type": "stream",
     "text": [
      "1\n",
      "2\n"
     ]
    }
   ],
   "source": [
    "for i in range(1,3):\n",
    "    print(i)"
   ]
  },
  {
   "cell_type": "code",
   "execution_count": 45,
   "metadata": {},
   "outputs": [],
   "source": [
    "def prewittOperator(image,threshold):\n",
    "    rows,cols=image.shape\n",
    "    output=np.zeros(shape=image.shape)\n",
    "    imagePad=np.pad(image,((1,1),(1,1)),'reflect')\n",
    "    for i in range(1,513):\n",
    "        for j in range(1,513):\n",
    "            p1= int(imagePad[i-1,j+1])+int(imagePad[i,j+1])+int(imagePad[i+1,j+1])\\\n",
    "                -int(imagePad[i-1,j-1])-int(imagePad[i,j-1])-int(imagePad[i+1,j-1])\n",
    "            p2= int(imagePad[i+1,j-1])+int(imagePad[i+1,j])+int(imagePad[i+1,j+1])\\\n",
    "                -int(imagePad[i-1,j-1])-int(imagePad[i-1,j])-int(imagePad[i+1,j])\n",
    "            graident=(math.sqrt(p1**2+p2**2))\n",
    "            if graident>threshold:\n",
    "                output[i-1,j-1]=0\n",
    "            else:\n",
    "                output[i-1,j-1]=255\n",
    "    return output"
   ]
  },
  {
   "cell_type": "code",
   "execution_count": 46,
   "metadata": {
    "scrolled": true
   },
   "outputs": [
    {
     "data": {
      "text/plain": [
       "True"
      ]
     },
     "execution_count": 46,
     "metadata": {},
     "output_type": "execute_result"
    }
   ],
   "source": [
    "#test\n",
    "src=cv2.imread(\"lena.bmp\",0)\n",
    "test=prewittOperator(src,24)\n",
    "cv2.imwrite(\"prewitt.bmp\",test)"
   ]
  },
  {
   "cell_type": "code",
   "execution_count": 47,
   "metadata": {},
   "outputs": [],
   "source": [
    "def sobelOperator(image,threshold):\n",
    "    rows,cols=image.shape\n",
    "    output=np.zeros(shape=image.shape)\n",
    "    imagePad=np.pad(image,((1,1),(1,1)),'reflect')\n",
    "    for i in range(1,513):\n",
    "        for j in range(1,513):\n",
    "            p1= int(imagePad[i-1,j+1])+int(2*imagePad[i,j+1])+int(imagePad[i+1,j+1])\\\n",
    "                -int(imagePad[i-1,j-1])-int(2*imagePad[i,j-1])-int(imagePad[i+1,j-1])\n",
    "            p2= int(imagePad[i+1,j-1])+int(2*imagePad[i+1,j])+int(imagePad[i+1,j+1])\\\n",
    "                -int(imagePad[i-1,j-1])-int(2*imagePad[i-1,j])-int(imagePad[i+1,j])\n",
    "            graident=(math.sqrt(p1**2+p2**2))\n",
    "            if graident>threshold:\n",
    "                output[i-1,j-1]=0\n",
    "            else:\n",
    "                output[i-1,j-1]=255\n",
    "    return output"
   ]
  },
  {
   "cell_type": "code",
   "execution_count": 48,
   "metadata": {},
   "outputs": [
    {
     "data": {
      "text/plain": [
       "True"
      ]
     },
     "execution_count": 48,
     "metadata": {},
     "output_type": "execute_result"
    }
   ],
   "source": [
    "#test\n",
    "src=cv2.imread(\"lena.bmp\",0)\n",
    "test=sobelOperator(src,38)\n",
    "cv2.imwrite(\"sobel.bmp\",test)"
   ]
  },
  {
   "cell_type": "code",
   "execution_count": 49,
   "metadata": {},
   "outputs": [],
   "source": [
    "def FreiandChenOperator(image,threshold):\n",
    "    rows,cols=image.shape\n",
    "    output=np.zeros(shape=image.shape)\n",
    "    imagePad=np.pad(image,((1,1),(1,1)),'reflect')\n",
    "    for i in range(1,513):\n",
    "        for j in range(1,513):\n",
    "            p1= int(imagePad[i-1,j+1])+int(math.sqrt(2)*imagePad[i,j+1])+int(imagePad[i+1,j+1])\\\n",
    "                -int(imagePad[i-1,j-1])-int(math.sqrt(2)*imagePad[i,j-1])-int(imagePad[i+1,j-1])\n",
    "            p2= int(imagePad[i+1,j-1])+int(math.sqrt(2)*imagePad[i+1,j])+int(imagePad[i+1,j+1])\\\n",
    "                -int(imagePad[i-1,j-1])-int(math.sqrt(2)*imagePad[i-1,j])-int(imagePad[i+1,j])\n",
    "            graident=(math.sqrt(p1**2+p2**2))\n",
    "            if graident>threshold:\n",
    "                output[i-1,j-1]=0\n",
    "            else:\n",
    "                output[i-1,j-1]=255\n",
    "    return output"
   ]
  },
  {
   "cell_type": "code",
   "execution_count": 50,
   "metadata": {},
   "outputs": [
    {
     "data": {
      "text/plain": [
       "True"
      ]
     },
     "execution_count": 50,
     "metadata": {},
     "output_type": "execute_result"
    }
   ],
   "source": [
    "#test\n",
    "src=cv2.imread(\"lena.bmp\",0)\n",
    "test=FreiandChenOperator(src,30)\n",
    "cv2.imwrite(\"freiandchen.bmp\",test)\n"
   ]
  },
  {
   "cell_type": "code",
   "execution_count": 51,
   "metadata": {},
   "outputs": [],
   "source": [
    "def kirschCompassOperator(image,threshold):\n",
    "    rows,cols=image.shape\n",
    "    output=np.zeros(shape=image.shape)\n",
    "    imagePad=np.pad(image,((1,1),(1,1)),'reflect')\n",
    "    for i in range(1,513):\n",
    "        for j in range(1,513):\n",
    "            k=np.zeros(8)\n",
    "            \"\"\"\n",
    "            1 2 6\n",
    "            3   7\n",
    "            4 5 8\n",
    "            \"\"\"\n",
    "            k[0]=int(-3*imagePad[i-1,j-1])+int(-3*imagePad[i,j-1])+int(-3*imagePad[i-1,j])+int(-3*imagePad[i-1,j+1])\\\n",
    "                 +int(-3*imagePad[i,j+1])+int(5*imagePad[i+1,j-1])+int(5*imagePad[i+1,j])+int(5*imagePad[i+1,j+1])\n",
    "            k[1]=int(-3*imagePad[i-1,j-1])+int(5*imagePad[i,j-1])+int(-3*imagePad[i-1,j])+int(-3*imagePad[i-1,j+1])\\\n",
    "                 +int(-3*imagePad[i,j+1])+int(5*imagePad[i+1,j-1])+int(5*imagePad[i+1,j])+int(-3*imagePad[i+1,j+1])\n",
    "            k[2]=int(5*imagePad[i-1,j-1])+int(5*imagePad[i,j-1])+int(-3*imagePad[i-1,j])+int(-3*imagePad[i-1,j+1])\\\n",
    "                 +int(-3*imagePad[i,j+1])+int(5*imagePad[i+1,j-1])+int(-3*imagePad[i+1,j])+int(-3*imagePad[i+1,j+1])\n",
    "            k[3]=int(5*imagePad[i-1,j-1])+int(5*imagePad[i,j-1])+int(5*imagePad[i-1,j])+int(-3*imagePad[i-1,j+1])\\\n",
    "                 +int(-3*imagePad[i,j+1])+int(-3*imagePad[i+1,j-1])+int(-3*imagePad[i+1,j])+int(-3*imagePad[i+1,j+1])\n",
    "            k[4]=int(5*imagePad[i-1,j-1])+int(-3*imagePad[i,j-1])+int(5*imagePad[i-1,j])+int(5*imagePad[i-1,j+1])\\\n",
    "                 +int(-3*imagePad[i,j+1])+int(-3*imagePad[i+1,j-1])+int(-3*imagePad[i+1,j])+int(-3*imagePad[i+1,j+1])\n",
    "            k[5]=int(-3*imagePad[i-1,j-1])+int(-3*imagePad[i,j-1])+int(5*imagePad[i-1,j])+int(5*imagePad[i-1,j+1])\\\n",
    "                 +int(5*imagePad[i,j+1])+int(-3*imagePad[i+1,j-1])+int(-3*imagePad[i+1,j])+int(-3*imagePad[i+1,j+1])\n",
    "            k[6]=int(-3*imagePad[i-1,j-1])+int(-3*imagePad[i,j-1])+int(-3*imagePad[i-1,j])+int(5*imagePad[i-1,j+1])\\\n",
    "                 +int(5*imagePad[i,j+1])+int(-3*imagePad[i+1,j-1])+int(-3*imagePad[i+1,j])+int(5*imagePad[i+1,j+1])\n",
    "            k[7]=int(-3*imagePad[i-1,j-1])+int(-3*imagePad[i,j-1])+int(-3*imagePad[i-1,j])+int(-3*imagePad[i-1,j+1])\\\n",
    "                 +int(5*imagePad[i,j+1])+int(-3*imagePad[i+1,j-1])+int(5*imagePad[i+1,j])+int(5*imagePad[i+1,j+1])\n",
    "            graident=max(k)\n",
    "            if graident>threshold:\n",
    "                output[i-1,j-1]=0\n",
    "            else:\n",
    "                output[i-1,j-1]=255\n",
    "    return output"
   ]
  },
  {
   "cell_type": "code",
   "execution_count": 52,
   "metadata": {},
   "outputs": [
    {
     "data": {
      "text/plain": [
       "True"
      ]
     },
     "execution_count": 52,
     "metadata": {},
     "output_type": "execute_result"
    }
   ],
   "source": [
    "#test\n",
    "src=cv2.imread(\"lena.bmp\",0)\n",
    "test=kirschCompassOperator(src,135)\n",
    "cv2.imwrite(\"kirsch.bmp\",test)"
   ]
  },
  {
   "cell_type": "code",
   "execution_count": 53,
   "metadata": {},
   "outputs": [],
   "source": [
    "def robinsonCompassOperator(image,threshold):\n",
    "    rows,cols=image.shape\n",
    "    output=np.zeros(shape=image.shape)\n",
    "    imagePad=np.pad(image,((1,1),(1,1)),'reflect')\n",
    "    for i in range(1,513):\n",
    "        for j in range(1,513):\n",
    "            r=np.zeros(8)\n",
    "            \"\"\"\n",
    "            1 2 6\n",
    "            3   7\n",
    "            4 5 8\n",
    "            \"\"\"\n",
    "            r[0]=int(-1*imagePad[i-1,j-1])+int(0*imagePad[i,j-1])+int(-2*imagePad[i-1,j])+int(-1*imagePad[i-1,j+1])\\\n",
    "                 +int(0*imagePad[i,j+1])+int(1*imagePad[i+1,j-1])+int(2*imagePad[i+1,j])+int(1*imagePad[i+1,j+1])\n",
    "            r[1]=int(0*imagePad[i-1,j-1])+int(1*imagePad[i,j-1])+int(-1*imagePad[i-1,j])+int(-2*imagePad[i-1,j+1])\\\n",
    "                 +int(-1*imagePad[i,j+1])+int(2*imagePad[i+1,j-1])+int(1*imagePad[i+1,j])+int(0*imagePad[i+1,j+1])\n",
    "            r[2]=int(1*imagePad[i-1,j-1])+int(2*imagePad[i,j-1])+int(0*imagePad[i-1,j])+int(-1*imagePad[i-1,j+1])\\\n",
    "                 +int(-2*imagePad[i,j+1])+int(1*imagePad[i+1,j-1])+int(0*imagePad[i+1,j])+int(-1*imagePad[i+1,j+1])\n",
    "            r[3]=int(2*imagePad[i-1,j-1])+int(1*imagePad[i,j-1])+int(1*imagePad[i-1,j])+int(0*imagePad[i-1,j+1])\\\n",
    "                 +int(-1*imagePad[i,j+1])+int(0*imagePad[i+1,j-1])+int(-1*imagePad[i+1,j])+int(-2*imagePad[i+1,j+1])\n",
    "            r[4]=int(1*imagePad[i-1,j-1])+int(0*imagePad[i,j-1])+int(2*imagePad[i-1,j])+int(1*imagePad[i-1,j+1])\\\n",
    "                 +int(0*imagePad[i,j+1])+int(-1*imagePad[i+1,j-1])+int(-2*imagePad[i+1,j])+int(-1*imagePad[i+1,j+1])\n",
    "            r[5]=int(0*imagePad[i-1,j-1])+int(-1*imagePad[i,j-1])+int(1*imagePad[i-1,j])+int(2*imagePad[i-1,j+1])\\\n",
    "                 +int(1*imagePad[i,j+1])+int(-2*imagePad[i+1,j-1])+int(-1*imagePad[i+1,j])+int(0*imagePad[i+1,j+1])\n",
    "            r[6]=int(-1*imagePad[i-1,j-1])+int(-2*imagePad[i,j-1])+int(0*imagePad[i-1,j])+int(1*imagePad[i-1,j+1])\\\n",
    "                 +int(2*imagePad[i,j+1])+int(-1*imagePad[i+1,j-1])+int(0*imagePad[i+1,j])+int(1*imagePad[i+1,j+1])\n",
    "            r[7]=int(-2*imagePad[i-1,j-1])+int(-1*imagePad[i,j-1])+int(-1*imagePad[i-1,j])+int(0*imagePad[i-1,j+1])\\\n",
    "                 +int(1*imagePad[i,j+1])+int(0*imagePad[i+1,j-1])+int(1*imagePad[i+1,j])+int(2*imagePad[i+1,j+1])\n",
    "            graident=max(r)\n",
    "            if graident>threshold:\n",
    "                output[i-1,j-1]=0\n",
    "            else:\n",
    "                output[i-1,j-1]=255\n",
    "    return output"
   ]
  },
  {
   "cell_type": "code",
   "execution_count": 54,
   "metadata": {},
   "outputs": [
    {
     "data": {
      "text/plain": [
       "True"
      ]
     },
     "execution_count": 54,
     "metadata": {},
     "output_type": "execute_result"
    }
   ],
   "source": [
    "#test\n",
    "src=cv2.imread(\"lena.bmp\",0)\n",
    "test=robinsonCompassOperator(src,43)\n",
    "cv2.imwrite(\"robinson.bmp\",test)"
   ]
  },
  {
   "cell_type": "code",
   "execution_count": 41,
   "metadata": {},
   "outputs": [],
   "source": [
    "def NevatiaBabuOperator1(image,threshold):\n",
    "    rows,cols=image.shape\n",
    "    output=np.zeros(shape=image.shape)\n",
    "    imagePad=np.pad(image,((2,2),(2,2)),'reflect')\n",
    "    for i in range(2,514):\n",
    "        for j in range(2,514):\n",
    "            N=np.zeros(6)\n",
    "            N[0]=int(100*imagePad[i-2,j-2])+int(100*imagePad[i-1,j-2])+int(100*imagePad[i,j-2])+int(100*imagePad[i+1,j-2])+int(100*imagePad[i+2,j-2])\\\n",
    "            +int(100*imagePad[i-2,j-1])+int(100*imagePad[i-1,j-1])+int(100*imagePad[i,j-1])+int(100*imagePad[i+1,j-1])+int(100*imagePad[i+2,j-1])\\\n",
    "            +int(0*imagePad[i-2,j])+int(0*imagePad[i-1,j])+int(0*imagePad[i,j])+int(0*imagePad[i+1,j])+int(0*imagePad[i+2,j])\\\n",
    "            +int(-100*imagePad[i-2,j+1])+int(-100*imagePad[i-1,j+1])+int(-100*imagePad[i,j+1])+int(-100*imagePad[i+1,j+1])+int(-100*imagePad[i+2,j+1])\\\n",
    "            +int(-100*imagePad[i-2,j+2])+int(-100*imagePad[i-1,j+1])+int(-100*imagePad[i,j+1])+int(-100*imagePad[i+1,j+1])+int(-100*imagePad[i+2,j+1])\n",
    "            \n",
    "            N[1]=int(100*imagePad[i-2,j-2])+int(100*imagePad[i-1,j-2])+int(100*imagePad[i,j-2])+int(100*imagePad[i+1,j-2])+int(100*imagePad[i+2,j-2])\\\n",
    "            +int(100*imagePad[i-2,j-1])+int(100*imagePad[i-1,j-1])+int(100*imagePad[i,j-1])+int(78*imagePad[i+1,j-1])+int(-32*imagePad[i+2,j-1])\\\n",
    "            +int(100*imagePad[i-2,j])+int(92*imagePad[i-1,j])+int(0*imagePad[i,j])+int(-92*imagePad[i+1,j])+int(-100*imagePad[i+2,j])\\\n",
    "            +int(32*imagePad[i-2,j+1])+int(-78*imagePad[i-1,j+1])+int(-100*imagePad[i,j+1])+int(-100*imagePad[i+1,j+1])+int(-100*imagePad[i+2,j+1])\\\n",
    "            +int(-100*imagePad[i-2,j+2])+int(-100*imagePad[i-1,j+1])+int(-100*imagePad[i,j+1])+int(-100*imagePad[i+1,j+1])+int(-100*imagePad[i+2,j+1])\n",
    "            \n",
    "            N[2]=int(100*imagePad[i-2,j-2])+int(100*imagePad[i-1,j-2])+int(100*imagePad[i,j-2])+int(32*imagePad[i+1,j-2])+int(-100*imagePad[i+2,j-2])\\\n",
    "            +int(100*imagePad[i-2,j-1])+int(100*imagePad[i-1,j-1])+int(92*imagePad[i,j-1])+int(-78*imagePad[i+1,j-1])+int(-100*imagePad[i+2,j-1])\\\n",
    "            +int(100*imagePad[i-2,j])+int(100*imagePad[i-1,j])+int(0*imagePad[i,j])+int(-100*imagePad[i+1,j])+int(-100*imagePad[i+2,j])\\\n",
    "            +int(100*imagePad[i-2,j+1])+int(78*imagePad[i-1,j+1])+int(-92*imagePad[i,j+1])+int(-100*imagePad[i+1,j+1])+int(-100*imagePad[i+2,j+1])\\\n",
    "            +int(100*imagePad[i-2,j+2])+int(-32*imagePad[i-1,j+1])+int(-100*imagePad[i,j+1])+int(-100*imagePad[i+1,j+1])+int(-100*imagePad[i+2,j+1])\n",
    "            \n",
    "            N[3]=int(-100*imagePad[i-2,j-2])+int(-100*imagePad[i-1,j-2])+int(0*imagePad[i,j-2])+int(100*imagePad[i+1,j-2])+int(100*imagePad[i+2,j-2])\\\n",
    "            +int(-100*imagePad[i-2,j-1])+int(-100*imagePad[i-1,j-1])+int(0*imagePad[i,j-1])+int(100*imagePad[i+1,j-1])+int(100*imagePad[i+2,j-1])\\\n",
    "            +int(-100*imagePad[i-2,j])+int(-100*imagePad[i-1,j])+int(0*imagePad[i,j])+int(100*imagePad[i+1,j])+int(100*imagePad[i+2,j])\\\n",
    "            +int(-100*imagePad[i-2,j+1])+int(-100*imagePad[i-1,j+1])+int(0*imagePad[i,j+1])+int(100*imagePad[i+1,j+1])+int(100*imagePad[i+2,j+1])\\\n",
    "            +int(-100*imagePad[i-2,j+2])+int(-100*imagePad[i-1,j+1])+int(0*imagePad[i,j+1])+int(100*imagePad[i+1,j+1])+int(100*imagePad[i+2,j+1])\n",
    "            \n",
    "            N[4]=int(-100*imagePad[i-2,j-2])+int(32*imagePad[i-1,j-2])+int(100*imagePad[i,j-2])+int(100*imagePad[i+1,j-2])+int(100*imagePad[i+2,j-2])\\\n",
    "            +int(-100*imagePad[i-2,j-1])+int(-78*imagePad[i-1,j-1])+int(92*imagePad[i,j-1])+int(100*imagePad[i+1,j-1])+int(100*imagePad[i+2,j-1])\\\n",
    "            +int(-100*imagePad[i-2,j])+int(-100*imagePad[i-1,j])+int(0*imagePad[i,j])+int(100*imagePad[i+1,j])+int(100*imagePad[i+2,j])\\\n",
    "            +int(-100*imagePad[i-2,j+1])+int(-100*imagePad[i-1,j+1])+int(-92*imagePad[i,j+1])+int(78*imagePad[i+1,j+1])+int(100*imagePad[i+2,j+1])\\\n",
    "            +int(-100*imagePad[i-2,j+2])+int(-100*imagePad[i-1,j+1])+int(-100*imagePad[i,j+1])+int(-32*imagePad[i+1,j+1])+int(100*imagePad[i+2,j+1])\n",
    "            \n",
    "            N[5]=int(100*imagePad[i-2,j-2])+int(100*imagePad[i-1,j-2])+int(100*imagePad[i,j-2])+int(100*imagePad[i+1,j-2])+int(100*imagePad[i+2,j-2])\\\n",
    "            +int(-32*imagePad[i-2,j-1])+int(78*imagePad[i-1,j-1])+int(100*imagePad[i,j-1])+int(100*imagePad[i+1,j-1])+int(100*imagePad[i+2,j-1])\\\n",
    "            +int(-100*imagePad[i-2,j])+int(-92*imagePad[i-1,j])+int(0*imagePad[i,j])+int(92*imagePad[i+1,j])+int(100*imagePad[i+2,j])\\\n",
    "            +int(-100*imagePad[i-2,j+1])+int(-100*imagePad[i-1,j+1])+int(-100*imagePad[i,j+1])+int(-78*imagePad[i+1,j+1])+int(32*imagePad[i+2,j+1])\\\n",
    "            +int(-100*imagePad[i-2,j+2])+int(-100*imagePad[i-1,j+1])+int(-100*imagePad[i,j+1])+int(-100*imagePad[i+1,j+1])+int(-100*imagePad[i+2,j+1])\n",
    "            \n",
    "            graident=max(N)\n",
    "            if graident>threshold:\n",
    "                output[i-2,j-2]=0\n",
    "            else:\n",
    "                output[i-2,j-2]=255\n",
    "    return output"
   ]
  },
  {
   "cell_type": "code",
   "execution_count": 42,
   "metadata": {},
   "outputs": [
    {
     "data": {
      "text/plain": [
       "True"
      ]
     },
     "execution_count": 42,
     "metadata": {},
     "output_type": "execute_result"
    }
   ],
   "source": [
    "#test\n",
    "src=cv2.imread(\"lena.bmp\",0)\n",
    "test=NevatiaBabuOperator1(src,12500)\n",
    "cv2.imwrite(\"nevatia1.bmp\",test)"
   ]
  },
  {
   "cell_type": "code",
   "execution_count": null,
   "metadata": {},
   "outputs": [],
   "source": []
  }
 ],
 "metadata": {
  "kernelspec": {
   "display_name": "Python 3",
   "language": "python",
   "name": "python3"
  },
  "language_info": {
   "codemirror_mode": {
    "name": "ipython",
    "version": 3
   },
   "file_extension": ".py",
   "mimetype": "text/x-python",
   "name": "python",
   "nbconvert_exporter": "python",
   "pygments_lexer": "ipython3",
   "version": "3.7.1"
  }
 },
 "nbformat": 4,
 "nbformat_minor": 2
}
