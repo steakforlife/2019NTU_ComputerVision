{
 "cells": [
  {
   "cell_type": "code",
   "execution_count": 4,
   "metadata": {},
   "outputs": [],
   "source": [
    "import cv2\n",
    "import numpy as np"
   ]
  },
  {
   "cell_type": "code",
   "execution_count": 5,
   "metadata": {},
   "outputs": [],
   "source": [
    "src=cv2.imread(\"lena.bmp\",cv2.IMREAD_GRAYSCALE)"
   ]
  },
  {
   "cell_type": "code",
   "execution_count": 6,
   "metadata": {},
   "outputs": [
    {
     "data": {
      "text/plain": [
       "dtype('uint8')"
      ]
     },
     "execution_count": 6,
     "metadata": {},
     "output_type": "execute_result"
    }
   ],
   "source": [
    "src.dtype"
   ]
  },
  {
   "cell_type": "markdown",
   "metadata": {},
   "source": [
    "## (a)threshold at 128"
   ]
  },
  {
   "cell_type": "code",
   "execution_count": 7,
   "metadata": {},
   "outputs": [
    {
     "data": {
      "text/plain": [
       "True"
      ]
     },
     "execution_count": 7,
     "metadata": {},
     "output_type": "execute_result"
    }
   ],
   "source": [
    "rows,cols=src.shape\n",
    "thresHoldImg=np.zeros(shape=src.shape,dtype=src.dtype)\n",
    "for i in range (rows):\n",
    "    for j in range(cols):\n",
    "        if src[i,j]>128:\n",
    "            thresHoldImg[i,j]=255\n",
    "        else:\n",
    "            thresHoldImg[i,j]=0\n",
    "cv2.imwrite(\"thresHoldImg.png\",thresHoldImg)"
   ]
  },
  {
   "cell_type": "markdown",
   "metadata": {},
   "source": [
    "## (b)histogram"
   ]
  },
  {
   "cell_type": "code",
   "execution_count": 9,
   "metadata": {},
   "outputs": [
    {
     "data": {
      "text/plain": [
       "256"
      ]
     },
     "execution_count": 9,
     "metadata": {},
     "output_type": "execute_result"
    }
   ],
   "source": [
    "hist.size"
   ]
  },
  {
   "cell_type": "code",
   "execution_count": 10,
   "metadata": {
    "scrolled": true
   },
   "outputs": [],
   "source": [
    "histH=[0]*256\n",
    "for i in range(rows):\n",
    "    for j in range(cols):\n",
    "        histH[(src[i,j])]+=1"
   ]
  },
  {
   "cell_type": "code",
   "execution_count": 47,
   "metadata": {},
   "outputs": [
    {
     "data": {
      "image/png": "[encoded data removed]",
      "text/plain": [
       "<Figure size 432x288 with 1 Axes>"
      ]
     },
     "metadata": {
      "needs_background": "light"
     },
     "output_type": "display_data"
    }
   ],
   "source": [
    "import matplotlib.pyplot as plt\n",
    "plt.bar(range(1,257),histH)\n",
    "plt.show()"
   ]
  },
  {
   "cell_type": "markdown",
   "metadata": {},
   "source": [
    "## (c)connected component"
   ]
  },
  {
   "cell_type": "code",
   "execution_count": 33,
   "metadata": {},
   "outputs": [],
   "source": [
    "class Stack:\n",
    "    \"A container with a last-in-first-out (LIFO) queuing policy.\"\n",
    "    def __init__(self):\n",
    "        self.list = []\n",
    "\n",
    "    def push(self,item):\n",
    "        \"Push 'item' onto the stack\"\n",
    "        self.list.append(item)\n",
    "\n",
    "    def pop(self):\n",
    "        \"Pop the most recently pushed item from the stack\"\n",
    "        return self.list.pop()\n",
    "\n",
    "    def isEmpty(self):\n",
    "        \"Returns true if the stack is empty\"\n",
    "        return len(self.list) == 0"
   ]
  },
  {
   "cell_type": "code",
   "execution_count": 34,
   "metadata": {},
   "outputs": [],
   "source": [
    "thresholdRegionPixels = 500\n",
    "binary=cv2.imread(\"thresHoldImg.png\",cv2.IMREAD_GRAYSCALE)\n",
    "width,height=src.shape"
   ]
  },
  {
   "cell_type": "code",
   "execution_count": 35,
   "metadata": {},
   "outputs": [
    {
     "data": {
      "text/plain": [
       "array([[255, 255, 255, ..., 255, 255,   0],\n",
       "       [255, 255, 255, ..., 255, 255,   0],\n",
       "       [255, 255, 255, ..., 255, 255,   0],\n",
       "       ...,\n",
       "       [  0,   0,   0, ...,   0,   0,   0],\n",
       "       [  0,   0,   0, ...,   0,   0,   0],\n",
       "       [  0,   0,   0, ...,   0,   0,   0]], dtype=uint8)"
      ]
     },
     "execution_count": 35,
     "metadata": {},
     "output_type": "execute_result"
    }
   ],
   "source": [
    "binary"
   ]
  },
  {
   "cell_type": "code",
   "execution_count": 36,
   "metadata": {},
   "outputs": [],
   "source": [
    "visited = np.zeros((width, height))\n",
    "labeledImageArray = np.zeros((width, height))\n",
    "idCount = 1\n",
    "numberLabel = np.zeros(width * height)"
   ]
  },
  {
   "cell_type": "code",
   "execution_count": 37,
   "metadata": {},
   "outputs": [],
   "source": [
    "for i in range(width):\n",
    "    for j in range(height):\n",
    "        if binary[i, j] == 0:\n",
    "            visited[i, j] = 1\n",
    "        elif visited[i, j] == 0:\n",
    "            stack = Stack()\n",
    "            stack.push((i, j))\n",
    "            while not stack.isEmpty():\n",
    "                col, row = stack.pop()\n",
    "\n",
    "                if visited[col, row] == 1:\n",
    "                    continue\n",
    "                visited[col, row] = 1\n",
    "\n",
    "                numberLabel[idCount] = numberLabel[idCount] + 1\n",
    "\n",
    "                #find 4-connected component\n",
    "                for x in [col - 1, col, col + 1]:\n",
    "                    for y in [row - 1, row, row + 1]:\n",
    "                        if (0 <= x < width) and (0 <= y < height):\n",
    "                            if (binary[x, y] != 0) and (visited[x, y] == 0):\n",
    "                                stack.push((x, y))\n",
    "            idCount += 1\n"
   ]
  },
  {
   "cell_type": "code",
   "execution_count": 38,
   "metadata": {},
   "outputs": [
    {
     "data": {
      "text/plain": [
       "(262144,)"
      ]
     },
     "execution_count": 38,
     "metadata": {},
     "output_type": "execute_result"
    }
   ],
   "source": [
    "numberLabel.shape"
   ]
  },
  {
   "cell_type": "code",
   "execution_count": 43,
   "metadata": {},
   "outputs": [],
   "source": [
    "rectangles = Stack()\n",
    "\n",
    "for index, n in enumerate(numberLabel):\n",
    "    if (n >= thresholdRegionPixels):\n",
    "        rectLeft = width\n",
    "        rectRight = 0\n",
    "        rectTop = height\n",
    "        rectBottom = 0\n",
    "        for x in range(width):\n",
    "            for y in range(height):\n",
    "                if (labeledImageArray[x, y] == index):\n",
    "                    if (x < rectLeft):\n",
    "                        rectLeft = x\n",
    "                    if (x > rectRight):\n",
    "                        rectRight = x\n",
    "                    if (y < rectTop):\n",
    "                        rectTop = y\n",
    "                    if (y > rectBottom):\n",
    "                        rectBottom = y\n",
    "        rectangles.push((rectLeft, rectRight, rectTop, rectBottom))\n"
   ]
  },
  {
   "cell_type": "code",
   "execution_count": 44,
   "metadata": {},
   "outputs": [
    {
     "data": {
      "text/plain": [
       "-1"
      ]
     },
     "execution_count": 44,
     "metadata": {},
     "output_type": "execute_result"
    }
   ],
   "source": [
    "connectedImage = np.zeros(shape=src.shape,dtype=src.dtype)\n",
    "connectedImage=cv2.cvtColor(connectedImage,cv2.COLOR_GRAY2BGR)\n",
    "connectedImageArray = connectedImage\n",
    "\n",
    "for i in range(width):\n",
    "    for j in range(height):\n",
    "        if (binary[i, j] == 0):\n",
    "            connectedImageArray[i, j] = (0, 0, 0)\n",
    "        else:\n",
    "            connectedImageArray[i, j] = (255, 255, 255)\n",
    "\n",
    "while not rectangles.isEmpty():\n",
    "    rectLeft, rectRight, rectTop, rectBottom = rectangles.pop()\n",
    "    cv2.rectangle(connectedImage,(rectLeft, rectTop),(rectRight, rectBottom),(0,0,255),2)\n",
    "    CentroidX = int((rectLeft + rectRight) / 2)\n",
    "    CentroidY = int((rectTop + rectBottom) / 2)\n",
    "    cv2.line(connectedImage,(CentroidX-10, CentroidY),(CentroidX+10, CentroidY),(0,0,255),5)\n",
    "    cv2.line(connectedImage,(CentroidX, CentroidY-10),(CentroidX, CentroidY+10),(0,0,255),5)\n",
    "cv2.imwrite(\"connectedComponent.bmp\",connectedImage)\n"
   ]
  }
 ],
 "metadata": {
  "kernelspec": {
   "display_name": "Python 3",
   "language": "python",
   "name": "python3"
  },
  "language_info": {
   "codemirror_mode": {
    "name": "ipython",
    "version": 3
   },
   "file_extension": ".py",
   "mimetype": "text/x-python",
   "name": "python",
   "nbconvert_exporter": "python",
   "pygments_lexer": "ipython3",
   "version": "3.7.1"
  }
 },
 "nbformat": 4,
 "nbformat_minor": 2
}
