{
 "cells": [
  {
   "cell_type": "code",
   "execution_count": 1,
   "metadata": {},
   "outputs": [],
   "source": [
    "import numpy as np\n",
    "import cv2"
   ]
  },
  {
   "cell_type": "code",
   "execution_count": 2,
   "metadata": {},
   "outputs": [
    {
     "data": {
      "text/plain": [
       "True"
      ]
     },
     "execution_count": 2,
     "metadata": {},
     "output_type": "execute_result"
    }
   ],
   "source": [
    "src=cv2.imread(\"lena.bmp\",cv2.IMREAD_GRAYSCALE)\n",
    "#hw2實做過的function\n",
    "rows,cols=src.shape\n",
    "srcBinary=np.zeros(shape=src.shape,dtype=src.dtype)\n",
    "for i in range (rows):\n",
    "    for j in range(cols):\n",
    "        if src[i,j]>128:\n",
    "            srcBinary[i,j]=255\n",
    "        else:\n",
    "            srcBinary[i,j]=0\n",
    "cv2.imwrite(\"lenaBinary.png\",srcBinary)"
   ]
  },
  {
   "cell_type": "code",
   "execution_count": 3,
   "metadata": {},
   "outputs": [],
   "source": [
    "def downsampling (image,sampleFactor):\n",
    "    rows,cols=image.shape\n",
    "    rowsD=int(rows/sampleFactor)\n",
    "    colsD=int(cols/sampleFactor)\n",
    "    downsampleImg=np.zeros(shape=(rowsD,colsD),dtype=image.dtype)\n",
    "    for i in range(rowsD):\n",
    "        for j in range(colsD):\n",
    "            downsampleImg[i,j]=image[i*sampleFactor,j*sampleFactor]\n",
    "    return downsampleImg"
   ]
  },
  {
   "cell_type": "code",
   "execution_count": 4,
   "metadata": {},
   "outputs": [
    {
     "data": {
      "text/plain": [
       "True"
      ]
     },
     "execution_count": 4,
     "metadata": {},
     "output_type": "execute_result"
    }
   ],
   "source": [
    "downsample=downsampling(srcBinary,8)\n",
    "cv2.imwrite(\"downsampleImg.png\",downsample)"
   ]
  },
  {
   "cell_type": "code",
   "execution_count": 5,
   "metadata": {},
   "outputs": [],
   "source": [
    "def fYokoi(a1,a2,a3,a4):\n",
    "    if ([a1,a2,a3,a4].count('r')==4):\n",
    "        return str(5)\n",
    "    else:\n",
    "        return str([a1,a2,a3,a4].count('q'))"
   ]
  },
  {
   "cell_type": "code",
   "execution_count": 6,
   "metadata": {},
   "outputs": [],
   "source": [
    "def hYokoi(b,c,d,e):\n",
    "    if b==c and (d!=b or e!=b):\n",
    "        return'q'\n",
    "    elif b==c and (d==b and e==b):\n",
    "        return'r'\n",
    "    else:\n",
    "        return's'"
   ]
  },
  {
   "cell_type": "code",
   "execution_count": 7,
   "metadata": {},
   "outputs": [],
   "source": [
    "def getNeighborPixels (image,position):\n",
    "    positionX,positionY=position\n",
    "    neighborhoodPixels=np.zeros(9)\n",
    "    for i in range(3):\n",
    "        for j in range(3):\n",
    "            dstX=positionX+(i-1)\n",
    "            dstY=positionY+(j-1)\n",
    "            if((0<=dstX<image[0].size) and (0<=dstY<image[1].size)):\n",
    "                neighborhoodPixels[3*j+i]=image[dstX,dstY]\n",
    "            else:\n",
    "                neighborhoodPixels[3*j+i]=0\n",
    "    neighborhoodPixels=[neighborhoodPixels[4],neighborhoodPixels[5],neighborhoodPixels[1]\n",
    "                       ,neighborhoodPixels[3],neighborhoodPixels[7],neighborhoodPixels[8]\n",
    "                       ,neighborhoodPixels[2],neighborhoodPixels[0],neighborhoodPixels[6]]\n",
    "    return neighborhoodPixels"
   ]
  },
  {
   "cell_type": "code",
   "execution_count": 8,
   "metadata": {},
   "outputs": [],
   "source": [
    "def yokoiConnectivityNumber(image):\n",
    "    rows,cols=image.shape\n",
    "    connectNum = np.chararray(shape=image.shape,unicode=True)\n",
    "    for i in range(rows):\n",
    "        for j in range(cols):\n",
    "            if(image[i,j]!=0):\n",
    "                neighborhoodPixels= getNeighborPixels(image,(i,j))\n",
    "                a1= hYokoi(neighborhoodPixels[0],neighborhoodPixels[1],neighborhoodPixels[6],neighborhoodPixels[2])\n",
    "                a2= hYokoi(neighborhoodPixels[0],neighborhoodPixels[2],neighborhoodPixels[7],neighborhoodPixels[3])\n",
    "                a3= hYokoi(neighborhoodPixels[0],neighborhoodPixels[3],neighborhoodPixels[8],neighborhoodPixels[4])\n",
    "                a4= hYokoi(neighborhoodPixels[0],neighborhoodPixels[4],neighborhoodPixels[5],neighborhoodPixels[1])\n",
    "                connectNum[i,j]=fYokoi(a1,a2,a3,a4)\n",
    "            else:\n",
    "                connectNum[i,j]=' '\n",
    "            if connectNum[i,j]=='0':\n",
    "                connectNum[i,j]=' '\n",
    "    return connectNum"
   ]
  },
  {
   "cell_type": "code",
   "execution_count": 42,
   "metadata": {
    "scrolled": false
   },
   "outputs": [],
   "source": [
    "label=yokoiConnectivityNumber(downsample)\n"
   ]
  },
  {
   "cell_type": "code",
   "execution_count": 43,
   "metadata": {},
   "outputs": [],
   "source": [
    "np.savetxt('Yokoi.txt',label,delimiter=' ',fmt=\"%s\")"
   ]
  },
  {
   "cell_type": "code",
   "execution_count": null,
   "metadata": {},
   "outputs": [],
   "source": []
  }
 ],
 "metadata": {
  "kernelspec": {
   "display_name": "Python 3",
   "language": "python",
   "name": "python3"
  },
  "language_info": {
   "codemirror_mode": {
    "name": "ipython",
    "version": 3
   },
   "file_extension": ".py",
   "mimetype": "text/x-python",
   "name": "python",
   "nbconvert_exporter": "python",
   "pygments_lexer": "ipython3",
   "version": "3.7.1"
  }
 },
 "nbformat": 4,
 "nbformat_minor": 2
}
