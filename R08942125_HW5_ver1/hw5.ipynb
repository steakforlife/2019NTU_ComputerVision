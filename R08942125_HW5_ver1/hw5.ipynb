{
 "cells": [
  {
   "cell_type": "code",
   "execution_count": 1,
   "metadata": {},
   "outputs": [],
   "source": [
    "import numpy as np\n",
    "import cv2\n"
   ]
  },
  {
   "cell_type": "code",
   "execution_count": 2,
   "metadata": {},
   "outputs": [],
   "source": [
    "src=cv2.imread(\"lena.bmp\",cv2.IMREAD_GRAYSCALE)"
   ]
  },
  {
   "cell_type": "markdown",
   "metadata": {},
   "source": [
    "## grayscale dilation\n",
    "\n",
    "**structor 為中心相加出的最大值**\n",
    "\n",
    "https://www.youtube.com/watch?v=3PmVBakfqAQ"
   ]
  },
  {
   "cell_type": "code",
   "execution_count": 3,
   "metadata": {},
   "outputs": [],
   "source": [
    "kernel=np.array([[0,1,1,1,0],\n",
    "                [1,1,1,1,1],\n",
    "                [1,1,1,1,1],\n",
    "                [1,1,1,1,1],\n",
    "                [0,1,1,1,0]])\n",
    "kernelRow,kernelCol=kernel.shape\n",
    "center=kernel[3,3]"
   ]
  },
  {
   "cell_type": "code",
   "execution_count": 4,
   "metadata": {},
   "outputs": [],
   "source": [
    "def grayScaleDilation(src,kernel):\n",
    "    dilationImg=np.zeros(shape=src.shape,dtype=src.dtype)\n",
    "    dilateKernel=np.zeros(shape=kernel.shape,dtype=kernel.dtype)\n",
    "    kernelHalf=(kernelCol-1)//2\n",
    "    maximum=0\n",
    "    for i in range(2,510):\n",
    "        for j in range(2,510):\n",
    "            for a in range(kernelRow):\n",
    "                for b in range(kernelCol):\n",
    "                    dilateKernel[a,b]=src[i-kernelHalf+a,j-kernelHalf+b]+kernel[a,b]\n",
    "            dilationImg[i,j]=dilateKernel.max()\n",
    "    return dilationImg\n",
    "                    "
   ]
  },
  {
   "cell_type": "code",
   "execution_count": 5,
   "metadata": {},
   "outputs": [
    {
     "data": {
      "text/plain": [
       "True"
      ]
     },
     "execution_count": 5,
     "metadata": {},
     "output_type": "execute_result"
    }
   ],
   "source": [
    "gsd=grayScaleDilation(src,kernel)\n",
    "cv2.imwrite(\"grayScaleDilationImg.png\",gsd)"
   ]
  },
  {
   "cell_type": "markdown",
   "metadata": {},
   "source": [
    "## grauscale erosion\n",
    "**structor能包住所有值的中心點，減掉structor value後的最小值**\n",
    "\n",
    "https://www.youtube.com/watch?v=oef00Opehkk"
   ]
  },
  {
   "cell_type": "code",
   "execution_count": 37,
   "metadata": {},
   "outputs": [],
   "source": [
    "count=0\n",
    "minimum=255\n",
    "def grayScaleErosion(src,kernel):\n",
    "    erosionImg=np.zeros(shape=src.shape,dtype=src.dtype)\n",
    "    kernelHalf=(kernelCol-1)//2\n",
    "    erosionKernel=np.zeros(shape=kernel.shape,dtype=src.dtype)\n",
    "    global count,minimum\n",
    "    for i in range(2,510):\n",
    "        for j in range(2,510):\n",
    "            count=0\n",
    "            minimum=255\n",
    "            for a in range(kernelRow):\n",
    "                for b in range(kernelCol):\n",
    "                    if(src[i-kernelHalf+a,j-kernelHalf+b]*kernel[a,b]!=0):\n",
    "                        count=count+1\n",
    "                        erosionKernel[a,b]=src[i-kernelHalf+a,j-kernelHalf+b]-kernel[a,b]\n",
    "                        minimum=min(erosionKernel[a,b],minimum)\n",
    "                    if(count==np.count_nonzero(kernel)):\n",
    "                        erosionImg[i,j]=minimum\n",
    "    return erosionImg"
   ]
  },
  {
   "cell_type": "code",
   "execution_count": 38,
   "metadata": {},
   "outputs": [
    {
     "data": {
      "text/plain": [
       "True"
      ]
     },
     "execution_count": 38,
     "metadata": {},
     "output_type": "execute_result"
    }
   ],
   "source": [
    "gse=grayScaleErosion(src,kernel)\n",
    "cv2.imwrite(\"grayScaleErosionImg.png\",gse)"
   ]
  },
  {
   "cell_type": "markdown",
   "metadata": {},
   "source": [
    "## grayscale opening\n",
    "\n",
    "**先erosion再dilation**"
   ]
  },
  {
   "cell_type": "code",
   "execution_count": 39,
   "metadata": {},
   "outputs": [
    {
     "data": {
      "text/plain": [
       "True"
      ]
     },
     "execution_count": 39,
     "metadata": {},
     "output_type": "execute_result"
    }
   ],
   "source": [
    "gso=grayScaleErosion(src,kernel)\n",
    "gso=grayScaleDilation(gso,kernel)\n",
    "cv2.imwrite(\"grayScaleOpeningImg.png\",gso)"
   ]
  },
  {
   "cell_type": "markdown",
   "metadata": {},
   "source": [
    "## grayscale closing\n",
    "**先dilation再erosion**"
   ]
  },
  {
   "cell_type": "code",
   "execution_count": null,
   "metadata": {},
   "outputs": [],
   "source": [
    "gsc=grayScaleDilation(src,kernel)\n",
    "gsc=grayScaleErosion(gsc,kernel)\n",
    "cv2.imwrite(\"grayScaleClosingImg.png\",gsc)"
   ]
  },
  {
   "cell_type": "code",
   "execution_count": null,
   "metadata": {},
   "outputs": [],
   "source": []
  }
 ],
 "metadata": {
  "kernelspec": {
   "display_name": "Python 3",
   "language": "python",
   "name": "python3"
  },
  "language_info": {
   "codemirror_mode": {
    "name": "ipython",
    "version": 3
   },
   "file_extension": ".py",
   "mimetype": "text/x-python",
   "name": "python",
   "nbconvert_exporter": "python",
   "pygments_lexer": "ipython3",
   "version": "3.7.1"
  }
 },
 "nbformat": 4,
 "nbformat_minor": 2
}
